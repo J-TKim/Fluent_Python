{
 "cells": [
  {
   "cell_type": "markdown",
   "metadata": {},
   "source": [
    "# 텍스트와 바이트"
   ]
  },
  {
   "cell_type": "markdown",
   "metadata": {},
   "source": [
    "## 4.1 문자 문제"
   ]
  },
  {
   "cell_type": "markdown",
   "metadata": {},
   "source": [
    "파이썬 3 str에서는 항상 유니코드 문자 항목으로 가져온다\n",
    "\n",
    "- 유니코드 표준에서 'U+' 접두사를 붙혀 4자리에서 6자리 사이의 16진수로 표현한다\n",
    "- 문자를 표현하는 실제 바이트는 사용하는 인코딩에 따라 달라진다 인코딩은 코드 포인트를 바이트 시퀀스로 변환하는 알고리즘이다"
   ]
  },
  {
   "cell_type": "code",
   "execution_count": 1,
   "metadata": {},
   "outputs": [
    {
     "name": "stdout",
     "output_type": "stream",
     "text": [
      "4\n",
      "b'caf\\xc3\\xa9'\n",
      "5\n",
      "café\n"
     ]
    }
   ],
   "source": [
    "# 예제 4-1 인코딩과 디코딩\n",
    "s = 'café'\n",
    "print(len(s)) # s는 4개의 유니코드 문자를 갖고있다\n",
    "\n",
    "b = s.encode('utf-8') # UTF-8을 이용해서 str을 bytes로 인코딩한다\n",
    "print(b) # byters 리터럴은 접두사 b로 시작한다\n",
    "print(len(b)) # bytes 형인 b는 다섯 바이트로 구성된다. é가 UTF-8에서 두 바이트로 인코딩된다\n",
    "\n",
    "print(b.decode('utf-8')) # UTF-8 인코딩을 이용해서 bytes를 str로 디코딩한다"
   ]
  },
  {
   "cell_type": "markdown",
   "metadata": {},
   "source": [
    "## 4.2 바이트에 대한 기본 지식"
   ]
  },
  {
   "cell_type": "code",
   "execution_count": 2,
   "metadata": {},
   "outputs": [
    {
     "name": "stdout",
     "output_type": "stream",
     "text": [
      "b'caf\\xc3\\xa9'\n",
      "99\n",
      "b'c'\n",
      "bytearray(b'caf\\xc3\\xa9')\n",
      "bytearray(b'\\xa9')\n"
     ]
    }
   ],
   "source": [
    "# 예제 4-2 bytes와 byearray로 지정한 5바이트 시퀀스\n",
    "cafe = bytes('café', encoding='utf-8') # bytes는 str에 인코딩을 지정해서 만들 수 있다\n",
    "print(cafe)\n",
    "print(cafe[0]) # c가 ASCII코드 기준 99이다\n",
    "print(cafe[:1]) # bytes는 슬라이싱 해도 bytes이다\n",
    "cafe_arr = bytearray(cafe)\n",
    "print(cafe_arr) # bytearray에 대한 리터럴 구문은 없다. bytes를 리터럴 인수로 사용해서 bytearray()를 표현한다\n",
    "print(cafe_arr[-1:]) # bytearray는 슬라이싱해도 bytearray이다"
   ]
  },
  {
   "cell_type": "markdown",
   "metadata": {},
   "source": [
    "__byte_type[0] != byte_type[:1] 인 사실을 명심하자 str의 경우에만 s[0] == s[:1] 이 성립한다__"
   ]
  },
  {
   "cell_type": "markdown",
   "metadata": {},
   "source": [
    "이진 시퀀스는 바이트 값에 따라 다음 형태로 출력한다\n",
    "- 화면에 출력 가능한 아스키 문자는 (' ' 부터 '~')는 아스키 문자 그대로 출력한다\n",
    "- 탭, 개행 문자, 캐리지 리턴, 백슬래시는 (\\t, \\n, \\r, \\\\)로 출력한다\n",
    "- 그 외의 값은 널 바이트를 나타내는 \\x00처럼 16진수 이스케이프 시퀀스로 출력한다\n",
    "\n",
    "그렇기 때문에 café가 b'caf\\xc3\\xa9'가 된 것이다. (caf는 아스키코드로 표현 가능, é는 불가하기 때문에 이스케이프 시퀀스로 포현)"
   ]
  },
  {
   "cell_type": "markdown",
   "metadata": {},
   "source": [
    "bytes와 bytes는 포매팅하는 format()과 format_map()을 메서드를 제외하고는 str이 제공하는 모든 메서드를 지원하고, 추가로 유니코드 데이터 관련 메서드 역시 지원한다"
   ]
  },
  {
   "cell_type": "code",
   "execution_count": 3,
   "metadata": {},
   "outputs": [
    {
     "data": {
      "text/plain": [
       "b'1K\\xce\\xa9'"
      ]
     },
     "execution_count": 3,
     "metadata": {},
     "output_type": "execute_result"
    }
   ],
   "source": [
    "# fromhex()라는 str에는 없는 클래스 메서드 (공백으로 구분된 16진수 쌍을 파싱해서 이진 시퀀스를 만들 수 있다)\n",
    "bytes.fromhex('31 4B CE A9')"
   ]
  },
  {
   "cell_type": "code",
   "execution_count": 4,
   "metadata": {},
   "outputs": [
    {
     "data": {
      "text/plain": [
       "b'\\xfe\\xff\\xff\\xff\\x00\\x00\\x01\\x00\\x02\\x00'"
      ]
     },
     "execution_count": 4,
     "metadata": {},
     "output_type": "execute_result"
    }
   ],
   "source": [
    "# 예제 4-3 배열의 원시 데이터에서 bytes 초기화하기\n",
    "import array\n",
    "\n",
    "numbers = array.array('h', [-2, -1, 0, 1, 2]) # 'h'타입코드는 short int(16비트) 형의 배열을 생성한다\n",
    "octets = bytes(numbers) # octets는 number를 구성하는 바이트들의 사본을 가지고있다\n",
    "octets # 다섯개의 shor int 형을 나타내는 10 바이트이다"
   ]
  },
  {
   "cell_type": "markdown",
   "metadata": {},
   "source": [
    "### 4.2.1 구조체와 메모리 뷰"
   ]
  },
  {
   "cell_type": "code",
   "execution_count": null,
   "metadata": {},
   "outputs": [],
   "source": []
  }
 ],
 "metadata": {
  "kernelspec": {
   "display_name": "Python 3",
   "language": "python",
   "name": "python3"
  },
  "language_info": {
   "codemirror_mode": {
    "name": "ipython",
    "version": 3
   },
   "file_extension": ".py",
   "mimetype": "text/x-python",
   "name": "python",
   "nbconvert_exporter": "python",
   "pygments_lexer": "ipython3",
   "version": "3.7.5"
  }
 },
 "nbformat": 4,
 "nbformat_minor": 4
}
