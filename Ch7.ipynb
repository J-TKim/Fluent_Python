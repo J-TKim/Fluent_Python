{
 "cells": [
  {
   "cell_type": "markdown",
   "metadata": {},
   "source": [
    "# 함수 데커레이터와 클로저"
   ]
  },
  {
   "cell_type": "markdown",
   "metadata": {},
   "source": [
    "## 7.1 데커레이터 기본 지식"
   ]
  },
  {
   "cell_type": "markdown",
   "metadata": {},
   "source": [
    "```python\n",
    "@decorate\n",
    "def target():\n",
    "    print('running target()')\n",
    "```\n",
    "위 코드는 아래의 코드와 동일하게 작동한다.    \n",
    "\n",
    "```python\n",
    "def target():\n",
    "    print('running target()')\n",
    "   \n",
    "target = decorate(target)\n",
    "```"
   ]
  },
  {
   "cell_type": "code",
   "execution_count": 1,
   "metadata": {},
   "outputs": [
    {
     "name": "stdout",
     "output_type": "stream",
     "text": [
      "running inner()\n"
     ]
    },
    {
     "data": {
      "text/plain": [
       "<function __main__.deco.<locals>.inner()>"
      ]
     },
     "execution_count": 1,
     "metadata": {},
     "output_type": "execute_result"
    }
   ],
   "source": [
    "# 예제 7-1 일반적으로 데커레이터는 함수를 다른 함수로 대체한다.\n",
    "def deco(func):\n",
    "    def inner():\n",
    "        print('running inner()')\n",
    "    return inner # inner 함수 객체를 반환\n",
    "\n",
    "@deco\n",
    "def target(): # target을 deco로 데커레이트 함\n",
    "    print('running target()')\n",
    "\n",
    "target() # 데커레이트된 target()을 호출하면 실제로는 inner()를 실행한다.\n",
    "target # target이 inner()를 가리키고 있음"
   ]
  },
  {
   "cell_type": "markdown",
   "metadata": {},
   "source": [
    "## 7.2 파이썬이 데커레이터를 실행하는 시점"
   ]
  },
  {
   "cell_type": "markdown",
   "metadata": {},
   "source": [
    "데커레이터는 파이썬이 모듈을 로딩하는 시점인 임포트 타임에 실행된다.    \n",
    "\n",
    "```python\n",
    "# registration.py\n",
    "\n",
    "registry = []\n",
    "\n",
    "def register(func):\n",
    "    print('running register(%s)' % func)\n",
    "    registry.append(func)\n",
    "    return func\n",
    "\n",
    "@register\n",
    "def f1():\n",
    "    print('running f1()')\n",
    "\n",
    "@register\n",
    "def f2():\n",
    "    print('running f2()')\n",
    "\n",
    "def f3(): # 데커레이트 되지 않은 f3\n",
    "    print('running f3()')\n",
    "    \n",
    "def main():\n",
    "    print('running main()')\n",
    "    print('registry ->', registry)\n",
    "    f1()\n",
    "    f2()\n",
    "    f3()\n",
    "    \n",
    "if __name__ == '__main__':\n",
    "    main()\n",
    "```"
   ]
  },
  {
   "cell_type": "code",
   "execution_count": 2,
   "metadata": {},
   "outputs": [
    {
     "name": "stdout",
     "output_type": "stream",
     "text": [
      "running register(<function f1 at 0x7f3e066a8b00>)\r\n",
      "running register(<function f2 at 0x7f3e066a8a70>)\r\n",
      "running main()\r\n",
      "registry -> [<function f1 at 0x7f3e066a8b00>, <function f2 at 0x7f3e066a8a70>]\r\n",
      "running f1()\r\n",
      "running f2()\r\n",
      "running f3()\r\n"
     ]
    }
   ],
   "source": [
    "!python registration.py"
   ]
  },
  {
   "cell_type": "markdown",
   "metadata": {},
   "source": [
    "register()는 모듈 내의 다른 어떠한 함수보다 먼저 실행된다.   \n",
    "스크립트로 실행하지 않고 임포트 할 때는 아래와 같이 출력된다."
   ]
  },
  {
   "cell_type": "code",
   "execution_count": 3,
   "metadata": {},
   "outputs": [
    {
     "name": "stdout",
     "output_type": "stream",
     "text": [
      "running register(<function f1 at 0x7f7804698b00>)\n",
      "running register(<function f2 at 0x7f7804698cb0>)\n"
     ]
    }
   ],
   "source": [
    "import registration"
   ]
  },
  {
   "cell_type": "markdown",
   "metadata": {},
   "source": [
    "registry에는 아래와 같은 내용이 들어있다."
   ]
  },
  {
   "cell_type": "code",
   "execution_count": 4,
   "metadata": {},
   "outputs": [
    {
     "data": {
      "text/plain": [
       "[<function registration.f1()>, <function registration.f2()>]"
      ]
     },
     "execution_count": 4,
     "metadata": {},
     "output_type": "execute_result"
    }
   ],
   "source": [
    "registration.registry"
   ]
  },
  {
   "cell_type": "markdown",
   "metadata": {},
   "source": [
    "이를 통해 데커레이터는 모듈이 임포트되자마자 실행되지만(임포트 타임), 데커레이트된 함수는 명시적으로 호출될 때만 실행되는 것을 알 수 있다.(런타임)"
   ]
  },
  {
   "cell_type": "markdown",
   "metadata": {},
   "source": [
    "## 7.3 데커레이터로 개선한 전략 패턴"
   ]
  },
  {
   "cell_type": "markdown",
   "metadata": {},
   "source": [
    "등록 데커레이터를 이용해 6.1절의 프로모션 할인 코드를 개선할 수 있다.    \n",
    "가장 큰 문제인 가장 큰 할인 방식을 찾는 best_promo() 함수에 사용되는 promos 리스트에 새로운 함수명을 추가를 하지 않는 문제를 막을 수 있다."
   ]
  },
  {
   "cell_type": "code",
   "execution_count": 5,
   "metadata": {},
   "outputs": [],
   "source": [
    "# 예제 7-3 promotion 데커레이터로 채운 promos 리스트\n",
    "promos = []\n",
    "\n",
    "# promotion() 데커레이터는 promo_func promos에 추가하고 그대로 반환한다.\n",
    "def promotion(promo_func):\n",
    "    promos.append(promo_func)\n",
    "    return promo_func\n",
    "\n",
    "@promotion\n",
    "def fidelity(order):\n",
    "    \"\"\"충성도 포인트가 1000점 이상인 고객에게 전체 5% 할인 적용\"\"\"\n",
    "    return order.total() * .05 if order.customer.fidelity >= 1000 else 0\n",
    "\n",
    "@promotion\n",
    "def bulk_itme(order):\n",
    "    \"\"\"20개 이상의 동일 상품을 구입하면 10% 할인 적용\"\"\"\n",
    "    discount = 0\n",
    "    for item in order.cart:\n",
    "        if item.quantity >= 20:\n",
    "            discount += item.total() * .1\n",
    "    return discount\n",
    "\n",
    "@promotion\n",
    "def large_order(order):\n",
    "    \"\"\"10종류 이상의 상품을 구입하면 전체 7% 할인 적용\"\"\"\n",
    "    distinct_items = {item.product for item in order.cart}\n",
    "    if len(distinct_items) >= 10:\n",
    "        return order.total() * .07\n",
    "    return 0\n",
    "\n",
    "# @promotion덕분에 best_promo는 변경 할 필요가 없다\n",
    "def best_promo(order):\n",
    "    \"\"\"최대로 할인받을 금액을 반환한다.\"\"\"\n",
    "    return max(promo(order) for promo in promos)"
   ]
  },
  {
   "cell_type": "markdown",
   "metadata": {},
   "source": [
    "## 7.4 변수 범위 규칙"
   ]
  },
  {
   "cell_type": "code",
   "execution_count": 6,
   "metadata": {},
   "outputs": [
    {
     "name": "stdout",
     "output_type": "stream",
     "text": [
      "3\n",
      "NameError: name 'b' is not defined\n"
     ]
    }
   ],
   "source": [
    "# 예제 7-4 지역 및 전역 변수를 읽는 함수\n",
    "def f1(a):\n",
    "    print(a)\n",
    "    print(b)\n",
    "\n",
    "try:\n",
    "    f1(3)\n",
    "except NameError:\n",
    "    print(\"NameError: name 'b' is not defined\")"
   ]
  },
  {
   "cell_type": "markdown",
   "metadata": {},
   "source": [
    "위의 경우에는 에러가 발생하지만, 아래와 같이 사용하면 제대로 작동한다."
   ]
  },
  {
   "cell_type": "code",
   "execution_count": 7,
   "metadata": {},
   "outputs": [
    {
     "name": "stdout",
     "output_type": "stream",
     "text": [
      "3\n",
      "6\n"
     ]
    }
   ],
   "source": [
    "b = 6\n",
    "f1(3)"
   ]
  },
  {
   "cell_type": "markdown",
   "metadata": {},
   "source": [
    "함수 안에 있는 b 변수가 출력 전에 선언되었기 때문에 에러가 발생한다."
   ]
  },
  {
   "cell_type": "code",
   "execution_count": 8,
   "metadata": {},
   "outputs": [
    {
     "name": "stdout",
     "output_type": "stream",
     "text": [
      "3\n",
      "UnboundLocalError: local variable 'b' referenced before assignment\n"
     ]
    }
   ],
   "source": [
    "# 예제 7-5 함수 본체 안에서 값을 할당하기 때문에 지역 변수가 되는 b\n",
    "b = 6\n",
    "def f2(a):\n",
    "    print(a)\n",
    "    print(b)\n",
    "    b = 9\n",
    "\n",
    "try:\n",
    "    f2(3)\n",
    "except UnboundLocalError:\n",
    "    print(\"UnboundLocalError: local variable 'b' referenced before assignment\")"
   ]
  },
  {
   "cell_type": "markdown",
   "metadata": {},
   "source": [
    "b를 전역 변수로 다루기를 원하면 global를 이용한다."
   ]
  },
  {
   "cell_type": "code",
   "execution_count": 9,
   "metadata": {},
   "outputs": [
    {
     "name": "stdout",
     "output_type": "stream",
     "text": [
      "3\n",
      "6\n",
      "9\n",
      "3\n",
      "9\n"
     ]
    },
    {
     "data": {
      "text/plain": [
       "30"
      ]
     },
     "execution_count": 9,
     "metadata": {},
     "output_type": "execute_result"
    }
   ],
   "source": [
    "b = 6\n",
    "def f3(a):\n",
    "    global b\n",
    "    print(a)\n",
    "    print(b)\n",
    "    b = 9\n",
    "\n",
    "f3(3)\n",
    "print(b)\n",
    "f3(3)\n",
    "b = 30\n",
    "b"
   ]
  },
  {
   "cell_type": "markdown",
   "metadata": {},
   "source": [
    "#### _ 바이트코드 비교 _"
   ]
  },
  {
   "cell_type": "code",
   "execution_count": 10,
   "metadata": {},
   "outputs": [
    {
     "name": "stdout",
     "output_type": "stream",
     "text": [
      "  3           0 LOAD_GLOBAL              0 (print)\n",
      "              2 LOAD_FAST                0 (a)\n",
      "              4 CALL_FUNCTION            1\n",
      "              6 POP_TOP\n",
      "\n",
      "  4           8 LOAD_GLOBAL              0 (print)\n",
      "             10 LOAD_GLOBAL              1 (b)\n",
      "             12 CALL_FUNCTION            1\n",
      "             14 POP_TOP\n",
      "             16 LOAD_CONST               0 (None)\n",
      "             18 RETURN_VALUE\n"
     ]
    }
   ],
   "source": [
    "# 예제 7-6 [예제 7-4] f1() 함수의 디스어셈블리\n",
    "from dis import dis\n",
    "dis(f1)"
   ]
  },
  {
   "cell_type": "markdown",
   "metadata": {},
   "source": [
    "전역명 b를 로딩하는 것을 알 수 있다."
   ]
  },
  {
   "cell_type": "code",
   "execution_count": 11,
   "metadata": {},
   "outputs": [
    {
     "name": "stdout",
     "output_type": "stream",
     "text": [
      "  4           0 LOAD_GLOBAL              0 (print)\n",
      "              2 LOAD_FAST                0 (a)\n",
      "              4 CALL_FUNCTION            1\n",
      "              6 POP_TOP\n",
      "\n",
      "  5           8 LOAD_GLOBAL              0 (print)\n",
      "             10 LOAD_FAST                1 (b)\n",
      "             12 CALL_FUNCTION            1\n",
      "             14 POP_TOP\n",
      "\n",
      "  6          16 LOAD_CONST               1 (9)\n",
      "             18 STORE_FAST               1 (b)\n",
      "             20 LOAD_CONST               0 (None)\n",
      "             22 RETURN_VALUE\n"
     ]
    }
   ],
   "source": [
    "# 예제 7-7 [예제 7-5] f2() 함수의 디스어셈블리\n",
    "dis(f2)"
   ]
  },
  {
   "cell_type": "markdown",
   "metadata": {},
   "source": [
    "지역명 b를 로딩하는 것을 알 수 있다."
   ]
  },
  {
   "cell_type": "markdown",
   "metadata": {},
   "source": [
    "## 7.5 클로저"
   ]
  },
  {
   "cell_type": "markdown",
   "metadata": {},
   "source": [
    "이전의 값을 기억하고 있는 avg()함수를 생성해보자. 먼저 클래스를 이용해 구현한다."
   ]
  },
  {
   "cell_type": "code",
   "execution_count": 12,
   "metadata": {},
   "outputs": [],
   "source": [
    "# 예제 7-8 average_oo.py: 이동 평균을 계산하는 클래스\n",
    "class Averager():\n",
    "    \n",
    "    def __init__(self):\n",
    "        self.series = []\n",
    "    \n",
    "    def __call__(self, new_value):\n",
    "        self.series.append(new_value)\n",
    "        total = sum(self.series)\n",
    "        return total/len(self.series)"
   ]
  },
  {
   "cell_type": "code",
   "execution_count": 13,
   "metadata": {},
   "outputs": [
    {
     "name": "stdout",
     "output_type": "stream",
     "text": [
      "10.0\n",
      "10.5\n",
      "11.0\n"
     ]
    }
   ],
   "source": [
    "avg = Averager()\n",
    "print(avg(10))\n",
    "print(avg(11))\n",
    "print(avg(12))"
   ]
  },
  {
   "cell_type": "markdown",
   "metadata": {},
   "source": [
    "고위함수 make_averager()를 이용해 구현한다."
   ]
  },
  {
   "cell_type": "code",
   "execution_count": 14,
   "metadata": {},
   "outputs": [],
   "source": [
    "# 예제 7-9 average.py: 이동 평균을 계산하는 고위 함수\n",
    "def make_averager():\n",
    "    series = []\n",
    "    \n",
    "    def averager(new_value):\n",
    "        series.append(new_value)\n",
    "        total = sum(series)\n",
    "        return total/len(series)\n",
    "    \n",
    "    return averager"
   ]
  },
  {
   "cell_type": "markdown",
   "metadata": {},
   "source": [
    "make_averager()가 호출도면 average() 함수 객체를 반환하고, average() 함수는 호출될 때 마다 받은 인수를 series에 추가한다."
   ]
  },
  {
   "cell_type": "code",
   "execution_count": 15,
   "metadata": {},
   "outputs": [
    {
     "name": "stdout",
     "output_type": "stream",
     "text": [
      "10.0\n",
      "10.5\n",
      "11.0\n"
     ]
    }
   ],
   "source": [
    "# 예제 7-10 [예제 7-9] 테스트\n",
    "avg = make_averager()\n",
    "print(avg(10))\n",
    "print(avg(11))\n",
    "print(avg(12))"
   ]
  },
  {
   "cell_type": "code",
   "execution_count": 16,
   "metadata": {},
   "outputs": [
    {
     "name": "stdout",
     "output_type": "stream",
     "text": [
      "('new_value', 'total')\n",
      "('series',)\n"
     ]
    }
   ],
   "source": [
    "# 예제 7-11 [예제 7-9]의 make_averager()로 생성한 함수 조사하기\n",
    "print(avg.__code__.co_varnames)\n",
    "print(avg.__code__.co_freevars)"
   ]
  },
  {
   "cell_type": "code",
   "execution_count": 17,
   "metadata": {},
   "outputs": [
    {
     "name": "stdout",
     "output_type": "stream",
     "text": [
      "('series',)\n",
      "(<cell at 0x7f780463fc50: list object at 0x7f7804679af0>,)\n",
      "[10, 11, 12]\n"
     ]
    }
   ],
   "source": [
    "# [예제 7-10]에서 계속\n",
    "print(avg.__code__.co_freevars)\n",
    "print(avg.__closure__)\n",
    "print(avg.__closure__[0].cell_contents)"
   ]
  },
  {
   "cell_type": "markdown",
   "metadata": {},
   "source": [
    "## 7.6 nonlocal 선언"
   ]
  }
 ],
 "metadata": {
  "kernelspec": {
   "display_name": "Python 3",
   "language": "python",
   "name": "python3"
  },
  "language_info": {
   "codemirror_mode": {
    "name": "ipython",
    "version": 3
   },
   "file_extension": ".py",
   "mimetype": "text/x-python",
   "name": "python",
   "nbconvert_exporter": "python",
   "pygments_lexer": "ipython3",
   "version": "3.7.5"
  }
 },
 "nbformat": 4,
 "nbformat_minor": 4
}
