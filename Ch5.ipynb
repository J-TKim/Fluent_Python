{
 "cells": [
  {
   "cell_type": "markdown",
   "metadata": {},
   "source": [
    "# 일급 함수"
   ]
  },
  {
   "cell_type": "markdown",
   "metadata": {},
   "source": [
    "파이썬의 함수는 일급 객체다.\n",
    "- 런타입에 생성할 수 있다.\n",
    "- 데이터 구조체의 변수나 요소에 할당할 수 있다.\n",
    "- 함수 인수로 전달할 수 있다.\n",
    "- 함수 결과로 반환할 수 있다.   \n",
    "   \n",
    "위 네 조건을 만족하면 일급 객체라고 정의한다고 한다."
   ]
  },
  {
   "cell_type": "markdown",
   "metadata": {},
   "source": [
    "## 5.1 함수를 객체처럼 다루기"
   ]
  },
  {
   "cell_type": "markdown",
   "metadata": {},
   "source": [
    "\\__doc__ 명령어를 통해 도움말 텍스트를 볼 수 있다."
   ]
  },
  {
   "cell_type": "code",
   "execution_count": 1,
   "metadata": {},
   "outputs": [
    {
     "name": "stdout",
     "output_type": "stream",
     "text": [
      "1405006117752879898543142606244511569936384000000000\n",
      "returns n!\n",
      "<class 'function'>\n"
     ]
    }
   ],
   "source": [
    "# 예제 5-1 함수를 생성해서 테스트하고, 함수의 __doc__를 읽어서 자료형 확인하기\n",
    "def factorial(n): # 콘솔 세션 (런타임)에도 생성이 가능하다\n",
    "    '''returns n!'''\n",
    "    return 1 if n < 2 else n * factorial(n-1)\n",
    "\n",
    "print(factorial(42))\n",
    "print(factorial.__doc__) # __doc__은 함수 객체의 여러 속성 중 하나다\n",
    "print(type(factorial))"
   ]
  },
  {
   "cell_type": "code",
   "execution_count": 2,
   "metadata": {},
   "outputs": [
    {
     "name": "stdout",
     "output_type": "stream",
     "text": [
      "<function factorial at 0x7fba2d3c8050>\n",
      "120\n",
      "<map object at 0x7fba2d3d32d0>\n",
      "[1, 1, 2, 6, 24, 120, 720, 5040, 40320, 362880, 3628800]\n"
     ]
    }
   ],
   "source": [
    "# 예제 5-2 함수를 다른 이름으로 사용하고 함수의 인수로 전달하기\n",
    "fact = factorial\n",
    "print(fact)\n",
    "print(fact(5))\n",
    "print(map(factorial, range(11)))\n",
    "print(list(map(fact, range(11))))"
   ]
  },
  {
   "cell_type": "markdown",
   "metadata": {},
   "source": [
    "## 5.2 고위 함수"
   ]
  },
  {
   "cell_type": "markdown",
   "metadata": {},
   "source": [
    "map()함수처럼 함수를 인수로 받거나, 함수를 결과로 반환하는 함수를 고위 함수 라고 한다."
   ]
  },
  {
   "cell_type": "code",
   "execution_count": 3,
   "metadata": {},
   "outputs": [
    {
     "data": {
      "text/plain": [
       "['fig', 'apple', 'cherry', 'banana', 'raspberry', 'strawberry']"
      ]
     },
     "execution_count": 3,
     "metadata": {},
     "output_type": "execute_result"
    }
   ],
   "source": [
    "# 예제 5-3 단어 리스트를 길이에 따라 정렬하기\n",
    "fruits = ['strawberry', 'fig', 'apple', 'cherry', 'raspberry', 'banana']\n",
    "sorted(fruits, key=len)"
   ]
  },
  {
   "cell_type": "markdown",
   "metadata": {},
   "source": [
    "인수를 하나 받는 함수는 모두 key로 사용할 수 있다.   \n",
    "\n",
    "아래는 거꾸로 뒤집은 철자를 이용해 정렬 (원본은 바뀌지 않음)"
   ]
  },
  {
   "cell_type": "code",
   "execution_count": 4,
   "metadata": {},
   "outputs": [
    {
     "name": "stdout",
     "output_type": "stream",
     "text": [
      "gnitset\n",
      "['banana', 'apple', 'fig', 'raspberry', 'strawberry', 'cherry']\n"
     ]
    }
   ],
   "source": [
    "# 예제 5-4 단어 리스트를 철자 역순으로 정렬하기\n",
    "def reverse(word):\n",
    "    return word[::-1]\n",
    "print(reverse('testing'))\n",
    "print(sorted(fruits, key=reverse))"
   ]
  },
  {
   "cell_type": "markdown",
   "metadata": {},
   "source": [
    "### 5.2.1 map(), filter(), reduce()의 대안"
   ]
  },
  {
   "cell_type": "markdown",
   "metadata": {},
   "source": [
    "지능형 리스트나 제너레이터 표현식이 map()과 filter()의 조합보다 가독성이 더 좋다"
   ]
  },
  {
   "cell_type": "code",
   "execution_count": 5,
   "metadata": {},
   "outputs": [
    {
     "name": "stdout",
     "output_type": "stream",
     "text": [
      "[1, 1, 2, 6, 24, 120]\n",
      "[1, 1, 2, 6, 24, 120]\n",
      "[1, 6, 120]\n",
      "[1, 6, 120]\n"
     ]
    }
   ],
   "source": [
    "# 예제 5-5 팩토리얼 목록을 map()/filter()로 생성하는 방법과 지능형 리스트로 생성하는 방법\n",
    "print(list(map(fact, range(6)))) # 0에서 5까지 팩토리얼 리스트 생성\n",
    "print([fact(n) for n in range(6)]) # 지능형 리스트 사용\n",
    "print(list(map(factorial, filter(lambda n: n % 2, range(6))))) # 홀수들의 팩토리얼 리스트 생성\n",
    "print([factorial(n) for n in range(6) if n % 2]) # 지능형 리스트 사용"
   ]
  },
  {
   "cell_type": "code",
   "execution_count": 6,
   "metadata": {},
   "outputs": [
    {
     "name": "stdout",
     "output_type": "stream",
     "text": [
      "4950\n",
      "4950\n"
     ]
    }
   ],
   "source": [
    "# 예제 5-6 reduce()와 sum()을 이용해서 99까지 정수 더하기\n",
    "from functools import reduce\n",
    "from operator import add # add를 임포트해서 숫자 두 개를 더하는 함수를 생성할 필요가 없다\n",
    "\n",
    "print(reduce(add, range(100))) # 정수를 99까지 더한다\n",
    "print(sum(range(100))) # sum()을 이용해 동일 작업을 수행 (임포트 할 필요가 없다)"
   ]
  },
  {
   "cell_type": "markdown",
   "metadata": {},
   "source": [
    "## 5.3 익명 함수"
   ]
  },
  {
   "cell_type": "markdown",
   "metadata": {},
   "source": [
    "lambda 키워드는 파이썬 표현식 내에 익명 함수를 생성한다."
   ]
  },
  {
   "cell_type": "code",
   "execution_count": 7,
   "metadata": {},
   "outputs": [
    {
     "data": {
      "text/plain": [
       "['banana', 'apple', 'fig', 'raspberry', 'strawberry', 'cherry']"
      ]
     },
     "execution_count": 7,
     "metadata": {},
     "output_type": "execute_result"
    }
   ],
   "source": [
    "# 예제 5-7 lambda를 이용해서 철자 역순으로 단어 리스트 정렬하기\n",
    "fruits = ['strawberry', 'fig', 'apple', 'cherry', 'raspberry', 'banana']\n",
    "sorted(fruits, key=lambda word: word[::-1])"
   ]
  },
  {
   "cell_type": "markdown",
   "metadata": {},
   "source": [
    "## 5.4 일곱 가지 맛의 콜러블 객체"
   ]
  },
  {
   "cell_type": "markdown",
   "metadata": {},
   "source": [
    "1. 사용자 정의 함수\n",
    "2. 내장 함수\n",
    "3. 내장 메서드\n",
    "4. 메서드\n",
    "5. 클래스\n",
    "6. 클래스 객체\n",
    "7. 제너레이터 함수"
   ]
  },
  {
   "cell_type": "markdown",
   "metadata": {},
   "source": [
    "호출할 수 있는 객체인지 알아보려면 callable()내장 함수를 사용한다."
   ]
  },
  {
   "cell_type": "code",
   "execution_count": 8,
   "metadata": {},
   "outputs": [
    {
     "name": "stdout",
     "output_type": "stream",
     "text": [
      "<built-in function abs> <class 'str'> 13\n",
      "[True, True, False]\n"
     ]
    }
   ],
   "source": [
    "print(abs, str, 13)\n",
    "print([callable(obj) for obj in (abs, str, 13)])"
   ]
  },
  {
   "cell_type": "markdown",
   "metadata": {},
   "source": [
    "## 5.5 사용자 정의 콜러블형"
   ]
  },
  {
   "cell_type": "markdown",
   "metadata": {},
   "source": [
    "\\__call__() 인스턴스 메서드를 구현하면 모든 파이썬 객체가 함수처럼 동작하게 만들 수 있다."
   ]
  },
  {
   "cell_type": "code",
   "execution_count": 9,
   "metadata": {},
   "outputs": [],
   "source": [
    "# 예제 5-8 bingocall.py : BingoCage 클래스는 뒤섞인 리스트에서 항목을 골라낼 뿐이다.\n",
    "import random\n",
    "\n",
    "class BingoCage:\n",
    "    \n",
    "    def __init__(self, items):\n",
    "        self._items = list(items) # __init__()은 반복 가능 객체를 만든다.\n",
    "        random.shuffle(self._items) # self._itmes가 리스트이므로 shiffule() 메서드가 실행되는 것을 보장\n",
    "        \n",
    "    # 핵심 메서드\n",
    "    def pick(self):\n",
    "        try:\n",
    "            return self._items.pop()\n",
    "        except IndexError:\n",
    "            raise LookUpError('pick from empty BingoCage') # self._items가 비어 있으면 예외를 발생\n",
    "        \n",
    "    # bingo.pick()에 대한 단축 형태로 bingo()를 정의\n",
    "    def __call__(self):\n",
    "        return self.pick()"
   ]
  },
  {
   "cell_type": "markdown",
   "metadata": {},
   "source": [
    "위에서 구현한 클래스를 사용하는 예는 다음과 같다"
   ]
  },
  {
   "cell_type": "code",
   "execution_count": 10,
   "metadata": {},
   "outputs": [
    {
     "name": "stdout",
     "output_type": "stream",
     "text": [
      "1\n",
      "2\n",
      "True\n"
     ]
    }
   ],
   "source": [
    "bingo = BingoCage(range(3))\n",
    "print(bingo.pick())\n",
    "print(bingo()) # __call__()메서드 활용\n",
    "print(callable(bingo))"
   ]
  },
  {
   "cell_type": "markdown",
   "metadata": {},
   "source": [
    "## 5.6 함수 인트로스펙션"
   ]
  },
  {
   "cell_type": "markdown",
   "metadata": {},
   "source": [
    "dir()함수를 이용하면 함수에 적용되어있는 속성들을 알 수 있다"
   ]
  },
  {
   "cell_type": "code",
   "execution_count": 11,
   "metadata": {},
   "outputs": [
    {
     "data": {
      "text/plain": [
       "['__annotations__',\n",
       " '__call__',\n",
       " '__class__',\n",
       " '__closure__',\n",
       " '__code__',\n",
       " '__defaults__',\n",
       " '__delattr__',\n",
       " '__dict__',\n",
       " '__dir__',\n",
       " '__doc__',\n",
       " '__eq__',\n",
       " '__format__',\n",
       " '__ge__',\n",
       " '__get__',\n",
       " '__getattribute__',\n",
       " '__globals__',\n",
       " '__gt__',\n",
       " '__hash__',\n",
       " '__init__',\n",
       " '__init_subclass__',\n",
       " '__kwdefaults__',\n",
       " '__le__',\n",
       " '__lt__',\n",
       " '__module__',\n",
       " '__name__',\n",
       " '__ne__',\n",
       " '__new__',\n",
       " '__qualname__',\n",
       " '__reduce__',\n",
       " '__reduce_ex__',\n",
       " '__repr__',\n",
       " '__setattr__',\n",
       " '__sizeof__',\n",
       " '__str__',\n",
       " '__subclasshook__']"
      ]
     },
     "execution_count": 11,
     "metadata": {},
     "output_type": "execute_result"
    }
   ],
   "source": [
    "dir(factorial)"
   ]
  },
  {
   "cell_type": "markdown",
   "metadata": {},
   "source": [
    "어떤 메서드가 사용될 때 장고 관리자 화면에서 레코드 목록에 보여줄 설명 내용을 결정하기 위해 해당 메서드에 short_description 속성을 추가"
   ]
  },
  {
   "cell_type": "code",
   "execution_count": 12,
   "metadata": {},
   "outputs": [],
   "source": [
    "def upper_case_name(obj):\n",
    "    return f'{obj.first_name} {obj.last_name}'.upper()\n",
    "upper_case_name.short_description = 'Customer name'"
   ]
  },
  {
   "cell_type": "code",
   "execution_count": 13,
   "metadata": {},
   "outputs": [
    {
     "data": {
      "text/plain": [
       "['__annotations__',\n",
       " '__call__',\n",
       " '__closure__',\n",
       " '__code__',\n",
       " '__defaults__',\n",
       " '__get__',\n",
       " '__globals__',\n",
       " '__kwdefaults__',\n",
       " '__name__',\n",
       " '__qualname__']"
      ]
     },
     "execution_count": 13,
     "metadata": {},
     "output_type": "execute_result"
    }
   ],
   "source": [
    "# 예제 5-9 일반 객체에는 존재하지 않는 함수 속성 나열하기\n",
    "class C: pass # 클래스 생성\n",
    "obj = C() # 클래스의 객체 생성\n",
    "def func(): pass # 함수 생성\n",
    "sorted(set(dir(func)) - set(dir(obj))) # 잡합의 - 연산을 이용해 함수에만 존재하는 속성을 정렬한 리스트 생성"
   ]
  },
  {
   "cell_type": "markdown",
   "metadata": {},
   "source": [
    "## 5.7 위치 매개변수에서 키우드 전용 매개변수까지"
   ]
  },
  {
   "cell_type": "code",
   "execution_count": 14,
   "metadata": {},
   "outputs": [],
   "source": [
    "\"\"\"\n",
    "예제 5-10 HTML을 생성하는 tag()함수. class는 파이썬에 정의된 키워드이므로, \n",
    "이를 피해 class 속성을 전달하기 위해 키워드 전용 매개변수로 cls를 사용했다.\n",
    "\"\"\"\n",
    "\n",
    "def tag(name, *content, cls=None, **attrs):\n",
    "    \"\"\"하나 이상의 HTML 태그를 생성한다.\"\"\"\n",
    "    if cls is not None:\n",
    "        attrs['class'] = cls\n",
    "    \n",
    "    if attrs:\n",
    "        attr_str = ''.join(f' {attr} \"{value}\"' for attr, value in sorted(attrs.items()))\n",
    "    else:\n",
    "        attr_str = ''\n",
    "    \n",
    "    if content:\n",
    "        return '\\n'.join(f'<{name}{attr_str}>{c}</{name}>' for c in content)\n",
    "    else:\n",
    "        return f'<{name}{attr_str} />'"
   ]
  },
  {
   "cell_type": "code",
   "execution_count": 15,
   "metadata": {},
   "outputs": [
    {
     "name": "stdout",
     "output_type": "stream",
     "text": [
      "<br />\n",
      "<p>hello</p>\n",
      "<p>hello</p>\n",
      "<p>world</p>\n",
      "<p id \"33\">hello</p>\n",
      "<p class \"sidebar\">hello</p>\n",
      "<p class \"sidebar\">world</p>\n",
      "<img content \"testing\" />\n",
      "<img class \"framed\" stc \"sunset.jpg\" title \"Sunset Voulevard\" />\n"
     ]
    }
   ],
   "source": [
    "print(tag('br')) # 위치 인수 하나만 사용해 호출\n",
    "print(tag('p', 'hello')) # 첫 번째 이후의 인수들은 모두 *content 매개변수에 튜플로 전달됨\n",
    "print(tag('p', 'hello', 'world'))\n",
    "print(tag('p', 'hello', id=33)) # tag 키워드에 명시적으로 이름이 지정되지 않은 인수들은 딕셔너리로 **attrs 인수에 전달됨\n",
    "print(tag('p', 'hello', 'world', cls='sidebar')) # cls 매개변수만 키워드 인수로 전달된다\n",
    "print(tag(content='testing', name='img')) # 첫 번째 위치 인수도 tag가 호출되면 키워드로 전달 가능\n",
    "my_tag = {'name': 'img', 'title': 'Sunset Voulevard',\n",
    "          'stc': 'sunset.jpg', 'cls': 'framed'}\n",
    "# 딕셔너리 앞에 **를 붙히면 딕셔너리 안의 모든 항목을 인수로 전달하고, 명명된 매개변수 및 나머지는 **attrs에 전달한다.\n",
    "print(tag(**my_tag)) "
   ]
  },
  {
   "cell_type": "markdown",
   "metadata": {},
   "source": [
    "키워드 전용 인수를 지정하려면 *이 붙은 인수 뒤에 이름을 지정한다. (그러면 모든 변수를 *이 가져가기 때문에, 인수를 지정해야 사용할 수 있다.)    \n",
    "가변 개수의 위치 인수를 지원하지 않으며 키워드 전용 인수를 지원하고 싶으면 아래와 같이 *을 이용하자 (b가 필수 인수가 되었다)"
   ]
  },
  {
   "cell_type": "code",
   "execution_count": 16,
   "metadata": {},
   "outputs": [
    {
     "data": {
      "text/plain": [
       "(1, 2)"
      ]
     },
     "execution_count": 16,
     "metadata": {},
     "output_type": "execute_result"
    }
   ],
   "source": [
    "def f(a, *, b):\n",
    "    return a, b\n",
    "f(1, b=2)"
   ]
  },
  {
   "cell_type": "markdown",
   "metadata": {},
   "source": [
    "## 5.8 매개변수에 대한 정보 읽기"
   ]
  },
  {
   "cell_type": "code",
   "execution_count": 17,
   "metadata": {},
   "outputs": [],
   "source": [
    "# 예제 5-15 원하는 길이 가까이에 있는 공백에서 잘라서 문자열을 단축하는 함수\n",
    "def clip(text, max_len=80):\n",
    "    \"\"\"max_len 앞이나 뒤의 마지막 공백에서 잘라낸 텍스트를 반환한다.\"\"\"\n",
    "    end = None\n",
    "    if len(text) > max_len:\n",
    "        space_before = text.rfind(' ', 0, max_len)\n",
    "        if space_before >= 0:\n",
    "            end = space_before\n",
    "        else:\n",
    "            space_after = text.rfind(' ', max_len)\n",
    "            if space_after >= 0:\n",
    "                end = space_after\n",
    "    if end is None: # 공백이 없다\n",
    "        end = len(text)\n",
    "    return text[:end].rstrip()"
   ]
  },
  {
   "cell_type": "markdown",
   "metadata": {},
   "source": [
    "clip() 함수의 여러 속성값을 보자"
   ]
  },
  {
   "cell_type": "code",
   "execution_count": 18,
   "metadata": {},
   "outputs": [
    {
     "name": "stdout",
     "output_type": "stream",
     "text": [
      "(80,)\n",
      "<code object clip at 0x7fba2cb82c90, file \"<ipython-input-17-4c535a034dee>\", line 2>\n",
      "('text', 'max_len', 'end', 'space_before', 'space_after')\n",
      "2\n"
     ]
    }
   ],
   "source": [
    "# 예제 5-16 함수 인수에 대한 정보 출력하기\n",
    "print(clip.__defaults__)\n",
    "print(clip.__code__)\n",
    "print(clip.__code__.co_varnames)\n",
    "print(clip.__code__.co_argcount)"
   ]
  },
  {
   "cell_type": "markdown",
   "metadata": {},
   "source": [
    "인수명이 co_varnames에 들어있지만 지역 변수명도 들어있다.   \n",
    "따라서 위의 앞 co_argcount 개의 변수가 인수명이다.   \n",
    "이 때 co_agrcount 에서는 앞에 *나 \\**이 붙은 인수가 포함되어 있지 않다.   \n",
    "    \n",
    "위 과정들을 inspect 모듈을 사용하면 더 깔끔하게 처리가 가능하다."
   ]
  },
  {
   "cell_type": "code",
   "execution_count": 19,
   "metadata": {},
   "outputs": [
    {
     "data": {
      "text/plain": [
       "<Signature (text, max_len=80)>"
      ]
     },
     "execution_count": 19,
     "metadata": {},
     "output_type": "execute_result"
    }
   ],
   "source": [
    "# 예제 5-17 함수 시그니처 추출하기\n",
    "from inspect import signature\n",
    "sig = signature(clip)\n",
    "sig"
   ]
  },
  {
   "cell_type": "code",
   "execution_count": 20,
   "metadata": {},
   "outputs": [
    {
     "name": "stdout",
     "output_type": "stream",
     "text": [
      "(text, max_len=80)\n",
      "1 : text = <class 'inspect._empty'>\n",
      "1 : max_len = 80\n"
     ]
    }
   ],
   "source": [
    "print(str(sig))\n",
    "for name, param in sig.parameters.items():\n",
    "    print(f'{param.kind} : {name} = {param.default}')"
   ]
  },
  {
   "cell_type": "markdown",
   "metadata": {},
   "source": [
    "이 결과가 훨씬 더 깔끔해 보인다."
   ]
  },
  {
   "cell_type": "markdown",
   "metadata": {},
   "source": [
    "inspect.Signature 객체에 있는 bind()메서드를 이용해 프레임워크에서 실제 함수를 호출하기 전에 인수를 검증하기 위해 사용할 수 있다."
   ]
  },
  {
   "cell_type": "code",
   "execution_count": 21,
   "metadata": {},
   "outputs": [
    {
     "name": "stdout",
     "output_type": "stream",
     "text": [
      "<BoundArguments (name='img', cls='framed', attrs={'title': 'Sunset Voulevard', 'stc': 'sunset.jpg'})>\n",
      "name = img\n",
      "cls = framed\n",
      "attrs = {'title': 'Sunset Voulevard', 'stc': 'sunset.jpg'}\n",
      "TypeError: missing a required argument: 'name'\n"
     ]
    }
   ],
   "source": [
    "# 예제 5-18 [예제 5-10]의 tag()에서 가져온 함수 시그니처를 인수들의 딕셔너리에 바인딩하기\n",
    "import inspect\n",
    "sig = inspect.signature(tag) # tag() 함수의 시그니처를 가져온다\n",
    "my_tag = {'name': 'img', 'title': 'Sunset Voulevard',\n",
    "          'stc': 'sunset.jpg', 'cls': 'framed'} # 인수들을 담은 딕셔너리를 bind() 메서드에 전달\n",
    "bound_args = sig.bind(**my_tag)\n",
    "# inspect.BoundArguments 객체가 생성된다.\n",
    "print(bound_args)\n",
    "\n",
    "# Orderdict 형인 bound_agrs.arguments 안에 들어있는 항목들을 반복해서 인수의 이름과 값을 출력\n",
    "for name, value in bound_args.arguments.items():\n",
    "    print(f'{name} = {value}')\n",
    "    \n",
    "del my_tag['name'] # 필수 항목인 name을 제거\n",
    "try:\n",
    "    bound_args = sig.bind(**my_tag)\n",
    "except TypeError:\n",
    "    print(\"TypeError: missing a required argument: 'name'\") # name 매개변수가 빠져있다는 에러 발생"
   ]
  },
  {
   "cell_type": "markdown",
   "metadata": {},
   "source": [
    "## 5.9 함수 애너테이션"
   ]
  },
  {
   "cell_type": "code",
   "execution_count": 22,
   "metadata": {},
   "outputs": [],
   "source": [
    "# 예제 5-19 애너테이션을 추가한 clip() 함수\n",
    "def clip(text:str, max_len:'int > 0'=80) -> str: # 함수 선언에 애너테이션을 추가\n",
    "    \"\"\"max_len 앞이나 뒤의 마지막 공백에서 잘라낸 텍스트를 반환한다.\"\"\"\n",
    "    end = None\n",
    "    if len(text) > max_len:\n",
    "        space_before = text.rfind(' ', 0, max_len)\n",
    "        if space_before >= 0:\n",
    "            end = space_before\n",
    "        else:\n",
    "            space_after = text.rfind(' ', max_len)\n",
    "            if space_after >= 0:\n",
    "                end = space_after\n",
    "    if end is None: # 공백이 없다\n",
    "        end = len(text)\n",
    "    return text[:end].rstrip()"
   ]
  },
  {
   "cell_type": "markdown",
   "metadata": {},
   "source": [
    "함수 선언에서 각 매개변수는 콜론 뒤에 애너테이션 표현식을 추가할 수 있다.   \n",
    "dict형 \\__annotations__ 속성에 저장된다."
   ]
  },
  {
   "cell_type": "code",
   "execution_count": 23,
   "metadata": {},
   "outputs": [
    {
     "data": {
      "text/plain": [
       "{'text': str, 'max_len': 'int > 0', 'return': str}"
      ]
     },
     "execution_count": 23,
     "metadata": {},
     "output_type": "execute_result"
    }
   ],
   "source": [
    "clip.__annotations__"
   ]
  },
  {
   "cell_type": "markdown",
   "metadata": {},
   "source": [
    "return 키에 대한 항목은 -> 기호로 표기한 반환값 애너테이션을 담고있다.    \n",
    "inspect.signature()는 애너테이션을 추출할 수 있다."
   ]
  },
  {
   "cell_type": "code",
   "execution_count": 24,
   "metadata": {},
   "outputs": [
    {
     "name": "stdout",
     "output_type": "stream",
     "text": [
      "<class 'str'>\n",
      "<class 'str'> : text = <class 'inspect._empty'>\n",
      "'int > 0'     : max_len = 80\n"
     ]
    }
   ],
   "source": [
    "# 예제 5-20 함수 시그니처에서 애너테이션 추출하기\n",
    "from inspect import signature\n",
    "sig = signature(clip)\n",
    "print(sig.return_annotation)\n",
    "for param in sig.parameters.values():\n",
    "    note = repr(param.annotation).ljust(13)\n",
    "    print(note, ':', param.name, '=', param.default)"
   ]
  },
  {
   "cell_type": "markdown",
   "metadata": {},
   "source": [
    "## 5.10 함수형 프로그래밍을 위한 패키지"
   ]
  },
  {
   "cell_type": "markdown",
   "metadata": {},
   "source": [
    "### 5.10.1 operator 모듈"
   ]
  },
  {
   "cell_type": "code",
   "execution_count": 25,
   "metadata": {},
   "outputs": [],
   "source": [
    "# 예제 5-21 reduce()와 익명 함수로 구현한 팩토리얼\n",
    "from functools import reduce\n",
    "\n",
    "def fact(n):\n",
    "    return reduce(lambda a, b: a*b, range(1, n+1))"
   ]
  },
  {
   "cell_type": "markdown",
   "metadata": {},
   "source": [
    "lambda a, b: a*b와 같이 사소한 익명함수를 작성하는 수고를 덜기위해 operator 모듈을 사용할 수 있다."
   ]
  },
  {
   "cell_type": "code",
   "execution_count": 26,
   "metadata": {},
   "outputs": [],
   "source": [
    "# 예제 5-22 reduce()와 operator.mul로 구현한 팩토리얼\n",
    "from functools import reduce\n",
    "from operator import mul\n",
    "\n",
    "def fact(n):\n",
    "    return reduce(mul, range(1, n+1))"
   ]
  },
  {
   "cell_type": "markdown",
   "metadata": {},
   "source": [
    "itemgetter(1)은 lambda fields: fields[1]과 동일하며, 주어진 컬렉션에 대해 1번 인덱스 항목을 반환하는 함수를 생성한다."
   ]
  },
  {
   "cell_type": "code",
   "execution_count": 27,
   "metadata": {},
   "outputs": [
    {
     "name": "stdout",
     "output_type": "stream",
     "text": [
      "('Sao Paulo', 'Br', 19.649, (-23.547778, -46.635833))\n",
      "('Delhi NCR', 'IN', 21.935, (28.613889, 77.208889))\n",
      "('Tokyo', 'JP', 36.933, (35.689722, 139.691667))\n",
      "('Mexico City', 'MX', 20.142, (19.433333, -99.133333))\n",
      "('New York-Newark', 'US', 20.104, (40.808611, -74.020386))\n"
     ]
    }
   ],
   "source": [
    "# 예제 5-23 튜플의 리스틀르 정렬하기 위한 tiemgetter() 사용 예\n",
    "metro_data = [\n",
    "    ('Tokyo', 'JP', 36.933, (35.689722, 139.691667)), # 마지막 필드는 좌표쌍\n",
    "    ('Delhi NCR', 'IN', 21.935, (28.613889, 77.208889)),\n",
    "    ('Mexico City', 'MX', 20.142, (19.433333, -99.133333)),\n",
    "    ('New York-Newark', 'US', 20.104, (40.808611, -74.020386)),\n",
    "    ('Sao Paulo', 'Br', 19.649, (-23.547778, -46.635833)),\n",
    "]\n",
    "\n",
    "from operator import itemgetter\n",
    "for city in sorted(metro_data, key=itemgetter(1)):\n",
    "    print(city)"
   ]
  },
  {
   "cell_type": "markdown",
   "metadata": {},
   "source": [
    "itemgetter()에 여러 개의 인덱스를 이수로 전달하면 생성된 함수는 해당 인덱스의 값들로 구성된 튜플을 반환"
   ]
  },
  {
   "cell_type": "code",
   "execution_count": 28,
   "metadata": {},
   "outputs": [
    {
     "name": "stdout",
     "output_type": "stream",
     "text": [
      "('JP', 'Tokyo')\n",
      "('IN', 'Delhi NCR')\n",
      "('MX', 'Mexico City')\n",
      "('US', 'New York-Newark')\n",
      "('Br', 'Sao Paulo')\n"
     ]
    }
   ],
   "source": [
    "cc_name = itemgetter(1, 0)\n",
    "for city in metro_data:\n",
    "    print(cc_name(city))"
   ]
  },
  {
   "cell_type": "markdown",
   "metadata": {},
   "source": [
    "attrgetter()는 일므으로 객체 속성을 추출하는 함수를 생성한다."
   ]
  },
  {
   "cell_type": "code",
   "execution_count": 29,
   "metadata": {},
   "outputs": [
    {
     "name": "stdout",
     "output_type": "stream",
     "text": [
      "Metropolis(name='Tokyo', cc='JP', pop=36.933, coord=Latlong(lat=35.689722, long=139.691667))\n",
      "35.689722\n",
      "('Sao Paulo', -23.547778)\n",
      "('Mexico City', 19.433333)\n",
      "('Delhi NCR', 28.613889)\n",
      "('Tokyo', 35.689722)\n",
      "('New York-Newark', 40.808611)\n"
     ]
    }
   ],
   "source": [
    "# 예제 5-24 [예제 5-23]에서 정의한 metro_data라는 명명된 튜플의 리스트를 처리하기 위한 attrgetter() 사용 예\n",
    "from collections import namedtuple\n",
    "LatLong = namedtuple('Latlong', 'lat long') # namedtuple를 이용해 LatLong을 생성\n",
    "Metropolis = namedtuple('Metropolis', 'name cc pop coord') # Metropolis 정의\n",
    "metro_areas = [Metropolis(name, cc, pop, LatLong(lat, long)) # Metropolis 객체로 구성된 리스트인 metro_areas를 생성\n",
    "              for name, cc, pop, (lat, long) in metro_data]\n",
    "print(metro_areas[0]) \n",
    "print(metro_areas[0].coord.lat) # 위도를 가져온다\n",
    "\n",
    "from operator import attrgetter\n",
    "name_lat = attrgetter('name', 'coord.lat') # coord.lat를 가져오기 위해 attrgetter()를 정의\n",
    "\n",
    "for city in sorted(metro_areas, key=attrgetter('coord.lat')): # 위도별로 도시를 정렬한다.\n",
    "    print(name_lat(city)) # 도시명과 위도만 보여준다."
   ]
  },
  {
   "cell_type": "markdown",
   "metadata": {},
   "source": [
    "operator에 정의된 함수들 중 일부는 다음과 같다."
   ]
  },
  {
   "cell_type": "code",
   "execution_count": 30,
   "metadata": {},
   "outputs": [
    {
     "data": {
      "text/plain": [
       "\"'abs', 'add', 'and_', 'attrgetter', 'concat', 'contains', 'countOf', 'delitem', 'eq', 'floordiv', 'ge', 'getitem', 'gt', 'iadd', 'iand', 'iconcat', 'ifloordiv', 'ilshift', 'imatmul', 'imod', 'imul', 'index', 'indexOf', 'inv', 'invert', 'ior', 'ipow', 'irshift', 'is_', 'is_not', 'isub', 'itemgetter', 'itruediv', 'ixor', 'le', 'length_hint', 'lshift', 'lt', 'matmul', 'methodcaller', 'mod', 'mul', 'ne', 'neg', 'not_', 'or_', 'pos', 'pow', 'rshift', 'setitem', 'sub', 'truediv', 'truth', 'xor'\""
      ]
     },
     "execution_count": 30,
     "metadata": {},
     "output_type": "execute_result"
    }
   ],
   "source": [
    "import operator\n",
    "\n",
    "operator_list = [name for name in dir(operator) if not name.startswith('_')]\n",
    "', '.join(map(repr, operator_list))"
   ]
  },
  {
   "cell_type": "markdown",
   "metadata": {},
   "source": [
    "methodcaller()가 생성한 함수는 인수로 전달받은 객체의 메서드를 호출한다."
   ]
  },
  {
   "cell_type": "code",
   "execution_count": 31,
   "metadata": {},
   "outputs": [
    {
     "name": "stdout",
     "output_type": "stream",
     "text": [
      "THE TIME HAS COME\n",
      "The-time-has-come\n"
     ]
    }
   ],
   "source": [
    "# 예제 5-25 methodcaller() 사용 예, 두 번째 테스트 hiphenate()에서 여분의 인수가 바인딩되는 것에 주의하라.\n",
    "from operator import methodcaller\n",
    "s = 'The time has come'\n",
    "upcase = methodcaller('upper')\n",
    "print(upcase(s))\n",
    "hiphenate = methodcaller('replace', ' ', '-')\n",
    "print(hiphenate(s))"
   ]
  },
  {
   "cell_type": "markdown",
   "metadata": {},
   "source": [
    "아래와 같은 방식으로 작동한다."
   ]
  },
  {
   "cell_type": "code",
   "execution_count": 32,
   "metadata": {},
   "outputs": [
    {
     "data": {
      "text/plain": [
       "'THE TIME HAS COME'"
      ]
     },
     "execution_count": 32,
     "metadata": {},
     "output_type": "execute_result"
    }
   ],
   "source": [
    "str.upper(s)"
   ]
  },
  {
   "cell_type": "markdown",
   "metadata": {},
   "source": [
    "### 5.10.2 functools.partial()로 인수 고정하기"
   ]
  },
  {
   "cell_type": "code",
   "execution_count": 33,
   "metadata": {},
   "outputs": [
    {
     "name": "stdout",
     "output_type": "stream",
     "text": [
      "21\n",
      "[3, 6, 9, 12, 15, 18, 21, 24, 27]\n"
     ]
    }
   ],
   "source": [
    "# 예제 5-26 인수를 하나 받는 콜러블이 필요한 곳에 인수 두 개를 받는 함수를 사용하기 위해 partial() 적용하기\n",
    "from operator import mul\n",
    "from functools import partial\n",
    "triple = partial(mul, 3) # mul() 함수의 첫 번째 위치 인수를 3으로 고정한 새로운 함수를 만든다.\n",
    "print(triple(7)) # 21 이 출력된다\n",
    "print(list(map(triple, range(1, 10)))) # tripe()을 map()에 적용한다."
   ]
  },
  {
   "cell_type": "code",
   "execution_count": 34,
   "metadata": {},
   "outputs": [
    {
     "name": "stdout",
     "output_type": "stream",
     "text": [
      "café café\n",
      "True\n",
      "True\n"
     ]
    }
   ],
   "source": [
    "# 예제 5-27 partial()을 이용해서 편리한 유니코드 정규화 함수 만들기\n",
    "import unicodedata, functools\n",
    "nfc = functools.partial(unicodedata.normalize, 'NFC')\n",
    "s1 = 'café'\n",
    "s2 = 'cafe\\u0301'\n",
    "print(s1, s2)\n",
    "print(s1 == s2)\n",
    "print(nfc(s1) == nfc(s2))"
   ]
  },
  {
   "cell_type": "code",
   "execution_count": 35,
   "metadata": {},
   "outputs": [
    {
     "name": "stdout",
     "output_type": "stream",
     "text": [
      "<function tag at 0x7fba2cb78d40>\n",
      "<img class \"pic-frame\" src \"wumpus.jpeg\" />\n",
      "functools.partial(<function tag at 0x7fba2cb78d40>, 'img', cls='pic-frame')\n",
      "<function tag at 0x7fba2cb78d40>\n",
      "('img',)\n",
      "{'cls': 'pic-frame'}\n"
     ]
    }
   ],
   "source": [
    "# 예제 5-28 [예제 5-10]의 tag()함수에 적용한 partial() 함수\n",
    "print(tag)\n",
    "from functools import partial\n",
    "picture = partial(tag, 'img', cls='pic-frame') # tag 함수의 첫 번째 인수를 'img', cls 키워드 인수를 'pic-frame'으로 고정한 함수 생성\n",
    "print(picture(src='wumpus.jpeg'))\n",
    "print(picture) # functools.partial 객체를 반환한다.\n",
    "print(picture.func) # 원래 ㅎ마수와 고정된 인수에 접근할 수 있는 속성을 지녔다.\n",
    "print(picture.args)\n",
    "print(picture.keywords)"
   ]
  }
 ],
 "metadata": {
  "kernelspec": {
   "display_name": "Python 3",
   "language": "python",
   "name": "python3"
  },
  "language_info": {
   "codemirror_mode": {
    "name": "ipython",
    "version": 3
   },
   "file_extension": ".py",
   "mimetype": "text/x-python",
   "name": "python",
   "nbconvert_exporter": "python",
   "pygments_lexer": "ipython3",
   "version": "3.7.5"
  }
 },
 "nbformat": 4,
 "nbformat_minor": 4
}
