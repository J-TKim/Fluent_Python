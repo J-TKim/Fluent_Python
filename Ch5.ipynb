{
 "cells": [
  {
   "cell_type": "markdown",
   "metadata": {},
   "source": [
    "# 일급 함수"
   ]
  },
  {
   "cell_type": "markdown",
   "metadata": {},
   "source": [
    "파이썬의 함수는 일급 객체다.\n",
    "- 런타입에 생성할 수 있다.\n",
    "- 데이터 구조체의 변수나 요소에 할당할 수 있다.\n",
    "- 함수 인수로 전달할 수 있다.\n",
    "- 함수 결과로 반환할 수 있다.   \n",
    "   \n",
    "위 네 조건을 만족하면 일급 객체라고 정의한다고 한다."
   ]
  },
  {
   "cell_type": "markdown",
   "metadata": {},
   "source": [
    "## 5.1 함수를 객체처럼 다루기"
   ]
  },
  {
   "cell_type": "markdown",
   "metadata": {},
   "source": [
    "\\__doc__ 명령어를 통해 도움말 텍스트를 볼 수 있다."
   ]
  },
  {
   "cell_type": "code",
   "execution_count": 1,
   "metadata": {},
   "outputs": [
    {
     "name": "stdout",
     "output_type": "stream",
     "text": [
      "1405006117752879898543142606244511569936384000000000\n",
      "returns n!\n",
      "<class 'function'>\n"
     ]
    }
   ],
   "source": [
    "# 예제 5-1 함수를 생성해서 테스트하고, 함수의 __doc__를 읽어서 자료형 확인하기\n",
    "def factorial(n): # 콘솔 세션 (런타임)에도 생성이 가능하다\n",
    "    '''returns n!'''\n",
    "    return 1 if n < 2 else n * factorial(n-1)\n",
    "\n",
    "print(factorial(42))\n",
    "print(factorial.__doc__) # __doc__은 함수 객체의 여러 속성 중 하나다\n",
    "print(type(factorial))"
   ]
  },
  {
   "cell_type": "code",
   "execution_count": 2,
   "metadata": {},
   "outputs": [
    {
     "name": "stdout",
     "output_type": "stream",
     "text": [
      "<function factorial at 0x7f813857c050>\n",
      "120\n",
      "<map object at 0x7f813857eed0>\n",
      "[1, 1, 2, 6, 24, 120, 720, 5040, 40320, 362880, 3628800]\n"
     ]
    }
   ],
   "source": [
    "# 예제 5-2 함수를 다른 이름으로 사용하고 함수의 인수로 전달하기\n",
    "fact = factorial\n",
    "print(fact)\n",
    "print(fact(5))\n",
    "print(map(factorial, range(11)))\n",
    "print(list(map(fact, range(11))))"
   ]
  },
  {
   "cell_type": "markdown",
   "metadata": {},
   "source": [
    "## 5.2 고위 함수"
   ]
  },
  {
   "cell_type": "markdown",
   "metadata": {},
   "source": [
    "map()함수처럼 함수를 인수로 받거나, 함수를 결과로 반환하는 함수를 고위 함수 라고 한다."
   ]
  },
  {
   "cell_type": "code",
   "execution_count": 3,
   "metadata": {},
   "outputs": [
    {
     "data": {
      "text/plain": [
       "['fig', 'apple', 'cherry', 'banana', 'raspberry', 'strawberry']"
      ]
     },
     "execution_count": 3,
     "metadata": {},
     "output_type": "execute_result"
    }
   ],
   "source": [
    "# 예제 5-3 단어 리스트를 길이에 따라 정렬하기\n",
    "fruits = ['strawberry', 'fig', 'apple', 'cherry', 'raspberry', 'banana']\n",
    "sorted(fruits, key=len)"
   ]
  },
  {
   "cell_type": "markdown",
   "metadata": {},
   "source": [
    "인수를 하나 받는 함수는 모두 key로 사용할 수 있다.   \n",
    "\n",
    "아래는 거꾸로 뒤집은 철자를 이용해 정렬 (원본은 바뀌지 않음)"
   ]
  },
  {
   "cell_type": "code",
   "execution_count": 4,
   "metadata": {},
   "outputs": [
    {
     "name": "stdout",
     "output_type": "stream",
     "text": [
      "gnitset\n",
      "['banana', 'apple', 'fig', 'raspberry', 'strawberry', 'cherry']\n"
     ]
    }
   ],
   "source": [
    "# 예제 5-4 단어 리스트를 철자 역순으로 정렬하기\n",
    "def reverse(word):\n",
    "    return word[::-1]\n",
    "print(reverse('testing'))\n",
    "print(sorted(fruits, key=reverse))"
   ]
  },
  {
   "cell_type": "markdown",
   "metadata": {},
   "source": [
    "### 5.2.1 map(), filter(), reduce()의 대안"
   ]
  },
  {
   "cell_type": "markdown",
   "metadata": {},
   "source": [
    "지능형 리스트나 제너레이터 표현식이 map()과 filter()의 조합보다 가독성이 더 좋다"
   ]
  },
  {
   "cell_type": "code",
   "execution_count": 5,
   "metadata": {},
   "outputs": [
    {
     "name": "stdout",
     "output_type": "stream",
     "text": [
      "[1, 1, 2, 6, 24, 120]\n",
      "[1, 1, 2, 6, 24, 120]\n",
      "[1, 6, 120]\n",
      "[1, 6, 120]\n"
     ]
    }
   ],
   "source": [
    "# 예제 5-5 팩토리얼 목록을 map()/filter()로 생성하는 방법과 지능형 리스트로 생성하는 방법\n",
    "print(list(map(fact, range(6)))) # 0에서 5까지 팩토리얼 리스트 생성\n",
    "print([fact(n) for n in range(6)]) # 지능형 리스트 사용\n",
    "print(list(map(factorial, filter(lambda n: n % 2, range(6))))) # 홀수들의 팩토리얼 리스트 생성\n",
    "print([factorial(n) for n in range(6) if n % 2]) # 지능형 리스트 사용"
   ]
  },
  {
   "cell_type": "code",
   "execution_count": 6,
   "metadata": {},
   "outputs": [
    {
     "name": "stdout",
     "output_type": "stream",
     "text": [
      "4950\n",
      "4950\n"
     ]
    }
   ],
   "source": [
    "# 예제 5-6 reduce()와 sum()을 이용해서 99까지 정수 더하기\n",
    "from functools import reduce\n",
    "from operator import add # add를 임포트해서 숫자 두 개를 더하는 함수를 생성할 필요가 없다\n",
    "\n",
    "print(reduce(add, range(100))) # 정수를 99까지 더한다\n",
    "print(sum(range(100))) # sum()을 이용해 동일 작업을 수행 (임포트 할 필요가 없다)"
   ]
  },
  {
   "cell_type": "markdown",
   "metadata": {},
   "source": [
    "## 5.3 익명 함수"
   ]
  },
  {
   "cell_type": "markdown",
   "metadata": {},
   "source": [
    "lambda 키워드는 파이썬 표현식 내에 익명 함수를 생성한다."
   ]
  },
  {
   "cell_type": "code",
   "execution_count": 7,
   "metadata": {},
   "outputs": [
    {
     "data": {
      "text/plain": [
       "['banana', 'apple', 'fig', 'raspberry', 'strawberry', 'cherry']"
      ]
     },
     "execution_count": 7,
     "metadata": {},
     "output_type": "execute_result"
    }
   ],
   "source": [
    "# 예제 5-7 lambda를 이용해서 철자 역순으로 단어 리스트 정렬하기\n",
    "fruits = ['strawberry', 'fig', 'apple', 'cherry', 'raspberry', 'banana']\n",
    "sorted(fruits, key=lambda word: word[::-1])"
   ]
  },
  {
   "cell_type": "markdown",
   "metadata": {},
   "source": [
    "## 5.4 일곱 가지 맛의 콜러블 객체"
   ]
  },
  {
   "cell_type": "markdown",
   "metadata": {},
   "source": [
    "1. 사용자 정의 함수\n",
    "2. 내장 함수\n",
    "3. 내장 메서드\n",
    "4. 메서드\n",
    "5. 클래스\n",
    "6. 클래스 객체\n",
    "7. 제너레이터 함수"
   ]
  },
  {
   "cell_type": "markdown",
   "metadata": {},
   "source": [
    "호출할 수 있는 객체인지 알아보려면 callable()내장 함수를 사용한다."
   ]
  },
  {
   "cell_type": "code",
   "execution_count": 8,
   "metadata": {},
   "outputs": [
    {
     "name": "stdout",
     "output_type": "stream",
     "text": [
      "<built-in function abs> <class 'str'> 13\n",
      "[True, True, False]\n"
     ]
    }
   ],
   "source": [
    "print(abs, str, 13)\n",
    "print([callable(obj) for obj in (abs, str, 13)])"
   ]
  },
  {
   "cell_type": "markdown",
   "metadata": {},
   "source": [
    "## 5.5 사용자 정의 콜러블형"
   ]
  },
  {
   "cell_type": "markdown",
   "metadata": {},
   "source": [
    "\\__call__() 인스턴스 메서드를 구현하면 모든 파이썬 객체가 함수처럼 동작하게 만들 수 있다."
   ]
  },
  {
   "cell_type": "code",
   "execution_count": 9,
   "metadata": {},
   "outputs": [],
   "source": [
    "# 예제 5-8 bingocall.py : BingoCage 클래스는 뒤섞인 리스트에서 항목을 골라낼 뿐이다.\n",
    "import random\n",
    "\n",
    "class BingoCage:\n",
    "    \n",
    "    def __init__(self, items):\n",
    "        self._items = list(items) # __init__()은 반복 가능 객체를 만든다.\n",
    "        random.shuffle(self._items) # self._itmes가 리스트이므로 shiffule() 메서드가 실행되는 것을 보장\n",
    "        \n",
    "    # 핵심 메서드\n",
    "    def pick(self):\n",
    "        try:\n",
    "            return self._items.pop()\n",
    "        except IndexError:\n",
    "            raise LookUpError('pick from empty BingoCage') # self._items가 비어 있으면 예외를 발생\n",
    "        \n",
    "    # bingo.pick()에 대한 단축 형태로 bingo()를 정의\n",
    "    def __call__(self):\n",
    "        return self.pick()"
   ]
  },
  {
   "cell_type": "markdown",
   "metadata": {},
   "source": [
    "위에서 구현한 클래스를 사용하는 예는 다음과 같다"
   ]
  },
  {
   "cell_type": "code",
   "execution_count": 10,
   "metadata": {},
   "outputs": [
    {
     "name": "stdout",
     "output_type": "stream",
     "text": [
      "2\n",
      "0\n",
      "True\n"
     ]
    }
   ],
   "source": [
    "bingo = BingoCage(range(3))\n",
    "print(bingo.pick())\n",
    "print(bingo()) # __call__()메서드 활용\n",
    "print(callable(bingo))"
   ]
  },
  {
   "cell_type": "markdown",
   "metadata": {},
   "source": [
    "## 5.6 함수 인트로스펙션"
   ]
  },
  {
   "cell_type": "markdown",
   "metadata": {},
   "source": [
    "dir()함수를 이용하면 함수에 적용되어있는 속성들을 알 수 있다"
   ]
  },
  {
   "cell_type": "code",
   "execution_count": 11,
   "metadata": {},
   "outputs": [
    {
     "data": {
      "text/plain": [
       "['__annotations__',\n",
       " '__call__',\n",
       " '__class__',\n",
       " '__closure__',\n",
       " '__code__',\n",
       " '__defaults__',\n",
       " '__delattr__',\n",
       " '__dict__',\n",
       " '__dir__',\n",
       " '__doc__',\n",
       " '__eq__',\n",
       " '__format__',\n",
       " '__ge__',\n",
       " '__get__',\n",
       " '__getattribute__',\n",
       " '__globals__',\n",
       " '__gt__',\n",
       " '__hash__',\n",
       " '__init__',\n",
       " '__init_subclass__',\n",
       " '__kwdefaults__',\n",
       " '__le__',\n",
       " '__lt__',\n",
       " '__module__',\n",
       " '__name__',\n",
       " '__ne__',\n",
       " '__new__',\n",
       " '__qualname__',\n",
       " '__reduce__',\n",
       " '__reduce_ex__',\n",
       " '__repr__',\n",
       " '__setattr__',\n",
       " '__sizeof__',\n",
       " '__str__',\n",
       " '__subclasshook__']"
      ]
     },
     "execution_count": 11,
     "metadata": {},
     "output_type": "execute_result"
    }
   ],
   "source": [
    "dir(factorial)"
   ]
  }
 ],
 "metadata": {
  "kernelspec": {
   "display_name": "Python 3",
   "language": "python",
   "name": "python3"
  },
  "language_info": {
   "codemirror_mode": {
    "name": "ipython",
    "version": 3
   },
   "file_extension": ".py",
   "mimetype": "text/x-python",
   "name": "python",
   "nbconvert_exporter": "python",
   "pygments_lexer": "ipython3",
   "version": "3.7.5"
  }
 },
 "nbformat": 4,
 "nbformat_minor": 4
}
