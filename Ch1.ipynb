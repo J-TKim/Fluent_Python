{
  "nbformat": 4,
  "nbformat_minor": 0,
  "metadata": {
    "colab": {
      "name": "Ch1.ipynb",
      "provenance": [],
      "collapsed_sections": []
    },
    "kernelspec": {
      "name": "python3",
      "display_name": "Python 3"
    }
  },
  "cells": [
    {
      "cell_type": "markdown",
      "metadata": {
        "id": "jnbK6jhuWhOL"
      },
      "source": [
        "# 파이썬 데이터 모델"
      ]
    },
    {
      "cell_type": "markdown",
      "metadata": {
        "id": "gqvZA5ncWdex"
      },
      "source": [
        "## 1-1 파이썬 카드 한 벌"
      ]
    },
    {
      "cell_type": "code",
      "metadata": {
        "id": "BesOJgqxWYQi"
      },
      "source": [
        "# 예제 1-1 일련의 카드로 구성된 카드 한 벌\r\n",
        "import collections\r\n",
        "\r\n",
        "Card = collections.namedtuple('Card', ['rank', 'suit'])\r\n",
        "\r\n",
        "class FrenchDeck:\r\n",
        "    ranks = [str(n) for n in range(2, 11)] + list('JQKA')\r\n",
        "    suits = 'spades diamonds clubs hearts'.split()\r\n",
        "\r\n",
        "    def __init__(self):\r\n",
        "        self._cards = [Card(rank, suit) for suit in self.suits\r\n",
        "                                       for rank in self.ranks]\r\n",
        "\r\n",
        "    def  __len__(self):\r\n",
        "        return len(self._cards)\r\n",
        "\r\n",
        "    def __getitem__(self, position):\r\n",
        "        return self._cards[position]\r\n"
      ],
      "execution_count": null,
      "outputs": []
    },
    {
      "cell_type": "code",
      "metadata": {
        "colab": {
          "base_uri": "https://localhost:8080/"
        },
        "id": "RGgfbyRwWltw",
        "outputId": "9860ed34-1466-4f66-9079-a15299eac008"
      },
      "source": [
        "# namedtuple를 이용해서 개별 카드를 나타낸다\r\n",
        "beer_card = Card('7', 'diamonds')\r\n",
        "print(beer_card)"
      ],
      "execution_count": null,
      "outputs": [
        {
          "output_type": "stream",
          "text": [
            "Card(rank='7', suit='diamonds')\n"
          ],
          "name": "stdout"
        }
      ]
    },
    {
      "cell_type": "code",
      "metadata": {
        "colab": {
          "base_uri": "https://localhost:8080/"
        },
        "id": "LEA_YYBvWnnP",
        "outputId": "7b3b6487-9a1c-4f3a-814e-2a72287bfa3f"
      },
      "source": [
        "# 가지고있는 카드의 수를 반환\r\n",
        "deck = FrenchDeck()\r\n",
        "print(len(deck))"
      ],
      "execution_count": null,
      "outputs": [
        {
          "output_type": "stream",
          "text": [
            "52\n"
          ],
          "name": "stdout"
        }
      ]
    },
    {
      "cell_type": "code",
      "metadata": {
        "colab": {
          "base_uri": "https://localhost:8080/"
        },
        "id": "eBeibTm3WpJG",
        "outputId": "1570b020-4953-4616-a3c7-e85411be89c1"
      },
      "source": [
        "# __getitem__ 메서드가 제공하는 기능을 이용해 특정 카드를 읽을 수 있다\r\n",
        "print(deck[0])\r\n",
        "print(deck[-1])"
      ],
      "execution_count": null,
      "outputs": [
        {
          "output_type": "stream",
          "text": [
            "Card(rank='2', suit='spades')\n",
            "Card(rank='A', suit='hearts')\n"
          ],
          "name": "stdout"
        }
      ]
    },
    {
      "cell_type": "code",
      "metadata": {
        "colab": {
          "base_uri": "https://localhost:8080/"
        },
        "id": "e4L5WzIaWqN-",
        "outputId": "332ab674-e258-4b24-af6d-989a639776da"
      },
      "source": [
        "# random.choice를 이용해서 임의의 카드를 골라내는 방법\r\n",
        "from random import choice\r\n",
        "\r\n",
        "print(choice(deck))"
      ],
      "execution_count": null,
      "outputs": [
        {
          "output_type": "stream",
          "text": [
            "Card(rank='9', suit='diamonds')\n"
          ],
          "name": "stdout"
        }
      ]
    },
    {
      "cell_type": "code",
      "metadata": {
        "colab": {
          "base_uri": "https://localhost:8080/"
        },
        "id": "M99CxcJEWrcO",
        "outputId": "7c82a9a3-7aac-4ee9-d43c-10094bd24801"
      },
      "source": [
        "# __getitem__ 메서드 덕분에 슬라이싱도 자동 지원\r\n",
        "print(deck[:3])"
      ],
      "execution_count": null,
      "outputs": [
        {
          "output_type": "stream",
          "text": [
            "[Card(rank='2', suit='spades'), Card(rank='3', suit='spades'), Card(rank='4', suit='spades')]\n"
          ],
          "name": "stdout"
        }
      ]
    },
    {
      "cell_type": "code",
      "metadata": {
        "colab": {
          "base_uri": "https://localhost:8080/"
        },
        "id": "GfzZqKnEWxV9",
        "outputId": "6d87556e-bce6-41e7-dd1e-a4c5f6b9a48c"
      },
      "source": [
        "# 12번 인덱스에서 시작해서 13개씩 건너뛰어 에이스만 가져오는 방법\r\n",
        "print(deck[12::13])"
      ],
      "execution_count": null,
      "outputs": [
        {
          "output_type": "stream",
          "text": [
            "[Card(rank='A', suit='spades'), Card(rank='A', suit='diamonds'), Card(rank='A', suit='clubs'), Card(rank='A', suit='hearts')]\n"
          ],
          "name": "stdout"
        }
      ]
    },
    {
      "cell_type": "code",
      "metadata": {
        "colab": {
          "base_uri": "https://localhost:8080/"
        },
        "id": "j7v93BCdW_S3",
        "outputId": "d0847fa6-c9d6-4434-ef2b-87cb72064a85"
      },
      "source": [
        "# deck 반복도 가능\r\n",
        "for card in deck:\r\n",
        "    print(card)"
      ],
      "execution_count": null,
      "outputs": [
        {
          "output_type": "stream",
          "text": [
            "Card(rank='2', suit='spades')\n",
            "Card(rank='3', suit='spades')\n",
            "Card(rank='4', suit='spades')\n",
            "Card(rank='5', suit='spades')\n",
            "Card(rank='6', suit='spades')\n",
            "Card(rank='7', suit='spades')\n",
            "Card(rank='8', suit='spades')\n",
            "Card(rank='9', suit='spades')\n",
            "Card(rank='10', suit='spades')\n",
            "Card(rank='J', suit='spades')\n",
            "Card(rank='Q', suit='spades')\n",
            "Card(rank='K', suit='spades')\n",
            "Card(rank='A', suit='spades')\n",
            "Card(rank='2', suit='diamonds')\n",
            "Card(rank='3', suit='diamonds')\n",
            "Card(rank='4', suit='diamonds')\n",
            "Card(rank='5', suit='diamonds')\n",
            "Card(rank='6', suit='diamonds')\n",
            "Card(rank='7', suit='diamonds')\n",
            "Card(rank='8', suit='diamonds')\n",
            "Card(rank='9', suit='diamonds')\n",
            "Card(rank='10', suit='diamonds')\n",
            "Card(rank='J', suit='diamonds')\n",
            "Card(rank='Q', suit='diamonds')\n",
            "Card(rank='K', suit='diamonds')\n",
            "Card(rank='A', suit='diamonds')\n",
            "Card(rank='2', suit='clubs')\n",
            "Card(rank='3', suit='clubs')\n",
            "Card(rank='4', suit='clubs')\n",
            "Card(rank='5', suit='clubs')\n",
            "Card(rank='6', suit='clubs')\n",
            "Card(rank='7', suit='clubs')\n",
            "Card(rank='8', suit='clubs')\n",
            "Card(rank='9', suit='clubs')\n",
            "Card(rank='10', suit='clubs')\n",
            "Card(rank='J', suit='clubs')\n",
            "Card(rank='Q', suit='clubs')\n",
            "Card(rank='K', suit='clubs')\n",
            "Card(rank='A', suit='clubs')\n",
            "Card(rank='2', suit='hearts')\n",
            "Card(rank='3', suit='hearts')\n",
            "Card(rank='4', suit='hearts')\n",
            "Card(rank='5', suit='hearts')\n",
            "Card(rank='6', suit='hearts')\n",
            "Card(rank='7', suit='hearts')\n",
            "Card(rank='8', suit='hearts')\n",
            "Card(rank='9', suit='hearts')\n",
            "Card(rank='10', suit='hearts')\n",
            "Card(rank='J', suit='hearts')\n",
            "Card(rank='Q', suit='hearts')\n",
            "Card(rank='K', suit='hearts')\n",
            "Card(rank='A', suit='hearts')\n"
          ],
          "name": "stdout"
        }
      ]
    },
    {
      "cell_type": "code",
      "metadata": {
        "colab": {
          "base_uri": "https://localhost:8080/"
        },
        "id": "d6mW28SdXCG3",
        "outputId": "3c4449b6-dbdc-4163-abe3-4ed0c2acc3ab"
      },
      "source": [
        "# 뒤에서 부터 반복 가능\r\n",
        "for card in reversed(deck):\r\n",
        "    print(card)"
      ],
      "execution_count": null,
      "outputs": [
        {
          "output_type": "stream",
          "text": [
            "Card(rank='A', suit='hearts')\n",
            "Card(rank='K', suit='hearts')\n",
            "Card(rank='Q', suit='hearts')\n",
            "Card(rank='J', suit='hearts')\n",
            "Card(rank='10', suit='hearts')\n",
            "Card(rank='9', suit='hearts')\n",
            "Card(rank='8', suit='hearts')\n",
            "Card(rank='7', suit='hearts')\n",
            "Card(rank='6', suit='hearts')\n",
            "Card(rank='5', suit='hearts')\n",
            "Card(rank='4', suit='hearts')\n",
            "Card(rank='3', suit='hearts')\n",
            "Card(rank='2', suit='hearts')\n",
            "Card(rank='A', suit='clubs')\n",
            "Card(rank='K', suit='clubs')\n",
            "Card(rank='Q', suit='clubs')\n",
            "Card(rank='J', suit='clubs')\n",
            "Card(rank='10', suit='clubs')\n",
            "Card(rank='9', suit='clubs')\n",
            "Card(rank='8', suit='clubs')\n",
            "Card(rank='7', suit='clubs')\n",
            "Card(rank='6', suit='clubs')\n",
            "Card(rank='5', suit='clubs')\n",
            "Card(rank='4', suit='clubs')\n",
            "Card(rank='3', suit='clubs')\n",
            "Card(rank='2', suit='clubs')\n",
            "Card(rank='A', suit='diamonds')\n",
            "Card(rank='K', suit='diamonds')\n",
            "Card(rank='Q', suit='diamonds')\n",
            "Card(rank='J', suit='diamonds')\n",
            "Card(rank='10', suit='diamonds')\n",
            "Card(rank='9', suit='diamonds')\n",
            "Card(rank='8', suit='diamonds')\n",
            "Card(rank='7', suit='diamonds')\n",
            "Card(rank='6', suit='diamonds')\n",
            "Card(rank='5', suit='diamonds')\n",
            "Card(rank='4', suit='diamonds')\n",
            "Card(rank='3', suit='diamonds')\n",
            "Card(rank='2', suit='diamonds')\n",
            "Card(rank='A', suit='spades')\n",
            "Card(rank='K', suit='spades')\n",
            "Card(rank='Q', suit='spades')\n",
            "Card(rank='J', suit='spades')\n",
            "Card(rank='10', suit='spades')\n",
            "Card(rank='9', suit='spades')\n",
            "Card(rank='8', suit='spades')\n",
            "Card(rank='7', suit='spades')\n",
            "Card(rank='6', suit='spades')\n",
            "Card(rank='5', suit='spades')\n",
            "Card(rank='4', suit='spades')\n",
            "Card(rank='3', suit='spades')\n",
            "Card(rank='2', suit='spades')\n"
          ],
          "name": "stdout"
        }
      ]
    },
    {
      "cell_type": "code",
      "metadata": {
        "colab": {
          "base_uri": "https://localhost:8080/"
        },
        "id": "3BVJ1w_5XIdm",
        "outputId": "a9164828-f119-487f-8711-831f5184a6ac"
      },
      "source": [
        "# __contains__() 메서드가 없지만 FrenchDeck 클래스의 경우 반복할 수 있으므로 in이 작동한다\r\n",
        "print(Card('Q', 'hearts') in deck)\r\n",
        "print(Card('7', 'beasts') in deck)"
      ],
      "execution_count": null,
      "outputs": [
        {
          "output_type": "stream",
          "text": [
            "True\n",
            "False\n"
          ],
          "name": "stdout"
        }
      ]
    },
    {
      "cell_type": "code",
      "metadata": {
        "id": "LnGdmTqKXhFB"
      },
      "source": [
        "# 카드의 순위를 정하는 함수\r\n",
        "suit_values = dict(spades=3, hearts=2, diamonds=1, clubs=0)\r\n",
        "\r\n",
        "def spades_high(card):\r\n",
        "    rank_value = FrenchDeck.ranks.index(card.rank)\r\n",
        "    return rank_value * len(suit_values) + suit_values[card.suit]"
      ],
      "execution_count": null,
      "outputs": []
    },
    {
      "cell_type": "code",
      "metadata": {
        "colab": {
          "base_uri": "https://localhost:8080/"
        },
        "id": "UbLJEkhyYGMe",
        "outputId": "4b6579c6-c7b1-4b53-c2ba-c49dafe42768"
      },
      "source": [
        "# 카드를 오름차순으로 정렬\r\n",
        "for card in sorted(deck, key=spades_high):\r\n",
        "    print(card)"
      ],
      "execution_count": null,
      "outputs": [
        {
          "output_type": "stream",
          "text": [
            "Card(rank='2', suit='clubs')\n",
            "Card(rank='2', suit='diamonds')\n",
            "Card(rank='2', suit='hearts')\n",
            "Card(rank='2', suit='spades')\n",
            "Card(rank='3', suit='clubs')\n",
            "Card(rank='3', suit='diamonds')\n",
            "Card(rank='3', suit='hearts')\n",
            "Card(rank='3', suit='spades')\n",
            "Card(rank='4', suit='clubs')\n",
            "Card(rank='4', suit='diamonds')\n",
            "Card(rank='4', suit='hearts')\n",
            "Card(rank='4', suit='spades')\n",
            "Card(rank='5', suit='clubs')\n",
            "Card(rank='5', suit='diamonds')\n",
            "Card(rank='5', suit='hearts')\n",
            "Card(rank='5', suit='spades')\n",
            "Card(rank='6', suit='clubs')\n",
            "Card(rank='6', suit='diamonds')\n",
            "Card(rank='6', suit='hearts')\n",
            "Card(rank='6', suit='spades')\n",
            "Card(rank='7', suit='clubs')\n",
            "Card(rank='7', suit='diamonds')\n",
            "Card(rank='7', suit='hearts')\n",
            "Card(rank='7', suit='spades')\n",
            "Card(rank='8', suit='clubs')\n",
            "Card(rank='8', suit='diamonds')\n",
            "Card(rank='8', suit='hearts')\n",
            "Card(rank='8', suit='spades')\n",
            "Card(rank='9', suit='clubs')\n",
            "Card(rank='9', suit='diamonds')\n",
            "Card(rank='9', suit='hearts')\n",
            "Card(rank='9', suit='spades')\n",
            "Card(rank='10', suit='clubs')\n",
            "Card(rank='10', suit='diamonds')\n",
            "Card(rank='10', suit='hearts')\n",
            "Card(rank='10', suit='spades')\n",
            "Card(rank='J', suit='clubs')\n",
            "Card(rank='J', suit='diamonds')\n",
            "Card(rank='J', suit='hearts')\n",
            "Card(rank='J', suit='spades')\n",
            "Card(rank='Q', suit='clubs')\n",
            "Card(rank='Q', suit='diamonds')\n",
            "Card(rank='Q', suit='hearts')\n",
            "Card(rank='Q', suit='spades')\n",
            "Card(rank='K', suit='clubs')\n",
            "Card(rank='K', suit='diamonds')\n",
            "Card(rank='K', suit='hearts')\n",
            "Card(rank='K', suit='spades')\n",
            "Card(rank='A', suit='clubs')\n",
            "Card(rank='A', suit='diamonds')\n",
            "Card(rank='A', suit='hearts')\n",
            "Card(rank='A', suit='spades')\n"
          ],
          "name": "stdout"
        }
      ]
    },
    {
      "cell_type": "markdown",
      "metadata": {
        "id": "eRCpFgpbZmOK"
      },
      "source": [
        "## 1.2 특별 메서드는 어떻게 사용되나?"
      ]
    },
    {
      "cell_type": "markdown",
      "metadata": {
        "id": "ozdnTQAIHGXc"
      },
      "source": [
        "### 1.2.1 수치형 흉내 내기"
      ]
    },
    {
      "cell_type": "code",
      "metadata": {
        "id": "c9M9i9dwYVEn"
      },
      "source": [
        "# 예제 1-2 간단한 2차원 벡터 클래스\r\n",
        "from math import hypot\r\n",
        "\r\n",
        "class Vector:\r\n",
        "    \r\n",
        "    def __init__(self, x=0, y=0):\r\n",
        "        self.x = x\r\n",
        "        self.y = y\r\n",
        "    \r\n",
        "    def __repr__(self):\r\n",
        "        return 'Vector(%r, %r)' % (self.x, self.y)\r\n",
        "    \r\n",
        "    def __abs__(self):\r\n",
        "        return hypot(self.x, self.y)\r\n",
        "    \r\n",
        "    def __add__(self, other):\r\n",
        "        x = self.x + other.x\r\n",
        "        y = self.y + other.y\r\n",
        "        return Vector(x, y)\r\n",
        "    \r\n",
        "    def __mul__(self, scalar):\r\n",
        "        return Vector(self.x * scalar, self.y * scalar)"
      ],
      "execution_count": null,
      "outputs": []
    },
    {
      "cell_type": "markdown",
      "metadata": {
        "id": "qfCmNyBHL4DL"
      },
      "source": [
        "### 1.2.2 문자열 표현"
      ]
    },
    {
      "cell_type": "code",
      "metadata": {
        "colab": {
          "base_uri": "https://localhost:8080/"
        },
        "id": "jqERZGbDIDlF",
        "outputId": "709d8fcf-ee08-4b07-87b7-4de17ff4055e"
      },
      "source": [
        "v1 = Vector(2, 4)\r\n",
        "v2 = Vector(2, 1)\r\n",
        "v1 + v2"
      ],
      "execution_count": null,
      "outputs": [
        {
          "output_type": "execute_result",
          "data": {
            "text/plain": [
              "Vector(4, 5)"
            ]
          },
          "metadata": {
            "tags": []
          },
          "execution_count": 5
        }
      ]
    },
    {
      "cell_type": "markdown",
      "metadata": {
        "id": "UwCl_HM0L_F9"
      },
      "source": [
        "### 1.2.3 산술 연산자"
      ]
    },
    {
      "cell_type": "code",
      "metadata": {
        "colab": {
          "base_uri": "https://localhost:8080/"
        },
        "id": "FLTB0F7YIKPi",
        "outputId": "ebf68c84-1a8b-41a8-e06a-c4c995f602cd"
      },
      "source": [
        "v = Vector(3, 4)\r\n",
        "abs(v)"
      ],
      "execution_count": null,
      "outputs": [
        {
          "output_type": "execute_result",
          "data": {
            "text/plain": [
              "5.0"
            ]
          },
          "metadata": {
            "tags": []
          },
          "execution_count": 6
        }
      ]
    },
    {
      "cell_type": "code",
      "metadata": {
        "colab": {
          "base_uri": "https://localhost:8080/"
        },
        "id": "JiNX3ZNIINiY",
        "outputId": "cb35abc4-d577-4237-ec15-e0db5cac6c70"
      },
      "source": [
        "v * 3"
      ],
      "execution_count": null,
      "outputs": [
        {
          "output_type": "execute_result",
          "data": {
            "text/plain": [
              "Vector(9, 12)"
            ]
          },
          "metadata": {
            "tags": []
          },
          "execution_count": 7
        }
      ]
    },
    {
      "cell_type": "code",
      "metadata": {
        "colab": {
          "base_uri": "https://localhost:8080/"
        },
        "id": "06TMM37fIOkQ",
        "outputId": "06a1d96d-61ca-4350-a6bd-89601ccce0bc"
      },
      "source": [
        "abs(v * 3)"
      ],
      "execution_count": null,
      "outputs": [
        {
          "output_type": "execute_result",
          "data": {
            "text/plain": [
              "15.0"
            ]
          },
          "metadata": {
            "tags": []
          },
          "execution_count": 8
        }
      ]
    }
  ]
}