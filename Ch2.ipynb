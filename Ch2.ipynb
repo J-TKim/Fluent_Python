{
 "cells": [
  {
   "cell_type": "markdown",
   "metadata": {
    "id": "CIdiJsQVimEH"
   },
   "source": [
    "# 시퀀스"
   ]
  },
  {
   "cell_type": "markdown",
   "metadata": {
    "id": "SzsFQflNigl_"
   },
   "source": [
    "## 2.2 지능형 리스트와 제너레이터 표현식"
   ]
  },
  {
   "cell_type": "markdown",
   "metadata": {
    "id": "trSxnD9gldhn"
   },
   "source": [
    "### 2.2.1 지능형 리스트와 가독성"
   ]
  },
  {
   "cell_type": "code",
   "execution_count": 1,
   "metadata": {
    "colab": {
     "base_uri": "https://localhost:8080/"
    },
    "id": "80ehdLnRem-J",
    "outputId": "e745a4a1-7307-403e-fb13-95dde0e683be"
   },
   "outputs": [
    {
     "data": {
      "text/plain": [
       "[36, 162, 163, 165, 8364, 164]"
      ]
     },
     "execution_count": 1,
     "metadata": {},
     "output_type": "execute_result"
    }
   ],
   "source": [
    "# 예제 2-1 문자열에서 유니코드 코드포인트 리스트 만들기(버전 1)\n",
    "symbols = '$¢£¥€¤'\n",
    "codes = []\n",
    "for symbol in symbols:\n",
    "    codes.append(ord(symbol))\n",
    "\n",
    "codes"
   ]
  },
  {
   "cell_type": "code",
   "execution_count": 2,
   "metadata": {
    "colab": {
     "base_uri": "https://localhost:8080/"
    },
    "id": "NlLTfCVziyEj",
    "outputId": "40bb55ea-ef5f-480e-e643-69cf95a9572e"
   },
   "outputs": [
    {
     "data": {
      "text/plain": [
       "[36, 162, 163, 165, 8364, 164]"
      ]
     },
     "execution_count": 2,
     "metadata": {},
     "output_type": "execute_result"
    }
   ],
   "source": [
    "# 예제 2-2 문자열에서 유니코드 코드포인트 리스트 만들기 (버전 2)\n",
    "symbols = '$¢£¥€¤'\n",
    "codes = [ord(symbol) for symbol in symbols]\n",
    "codes"
   ]
  },
  {
   "cell_type": "code",
   "execution_count": 3,
   "metadata": {
    "colab": {
     "base_uri": "https://localhost:8080/"
    },
    "id": "RIpOClnui1Jb",
    "outputId": "d96fb3c0-f038-443f-ce15-5b92263272b0"
   },
   "outputs": [
    {
     "name": "stdout",
     "output_type": "stream",
     "text": [
      "ABC\n",
      "[65, 66, 67]\n"
     ]
    }
   ],
   "source": [
    "# 파이썬 3 버전에서 for문에서 사용된 변수는 처음 설정되었던 값을 건드리지 않는다\n",
    "x = 'ABC'\n",
    "dummy = [ord(x) for x in x]\n",
    "print(x) # x의 값이 유지된다\n",
    "print(dummy) # 지능형 리스트도 제대로 작동한다"
   ]
  },
  {
   "cell_type": "markdown",
   "metadata": {
    "id": "8DJABZLPlf2D"
   },
   "source": [
    "### 2.2.2 지능형 리스트와 map()/filter() 비교"
   ]
  },
  {
   "cell_type": "code",
   "execution_count": 4,
   "metadata": {
    "colab": {
     "base_uri": "https://localhost:8080/"
    },
    "id": "2WXe7cg1lIuF",
    "outputId": "114851ec-bcac-433f-c2b9-9bda7b92044c"
   },
   "outputs": [
    {
     "name": "stdout",
     "output_type": "stream",
     "text": [
      "[162, 163, 165, 8364, 164]\n",
      "[162, 163, 165, 8364, 164]\n"
     ]
    }
   ],
   "source": [
    "# 예제 2-3 지능형 리스트와 맵/필터 구성으로 만든 동일 리스트\n",
    "symbols = '$¢£¥€¤'\n",
    "beyond_ascii = [ord(s) for s in symbols if ord(s) > 127]\n",
    "print(beyond_ascii)\n",
    "\n",
    "beyond_ascii = list(filter(lambda c: c > 127, map(ord, symbols))) # map, filter 조합이 더 빠르지 않다\n",
    "print(beyond_ascii)"
   ]
  },
  {
   "cell_type": "markdown",
   "metadata": {
    "id": "LUZeHrkymVPn"
   },
   "source": [
    "### 2.2.3 데카르트 곱"
   ]
  },
  {
   "cell_type": "code",
   "execution_count": 5,
   "metadata": {
    "colab": {
     "base_uri": "https://localhost:8080/"
    },
    "id": "A0mibOn0l_kl",
    "outputId": "790ce491-7ad0-4603-d5f0-9a9f7f1630ed"
   },
   "outputs": [
    {
     "name": "stdout",
     "output_type": "stream",
     "text": [
      "[('black', 'S'), ('black', 'M'), ('black', 'L'), ('white', 'S'), ('white', 'M'), ('white', 'L')]\n",
      "('black', 'S')\n",
      "('black', 'M')\n",
      "('black', 'L')\n",
      "('white', 'S')\n",
      "('white', 'M')\n",
      "('white', 'L')\n",
      "[('black', 'S'), ('white', 'S'), ('black', 'M'), ('white', 'M'), ('black', 'L'), ('white', 'L')]\n"
     ]
    }
   ],
   "source": [
    "# 예제 2-4 지능형 리스트를 이용한 데카르트 곱\n",
    "colors = ['black', 'white']\n",
    "sizes = ['S', 'M', 'L']\n",
    "tshirts = [(color, size) for color in colors for size in sizes] # color 다음에 size를 배치해서 만든 튜플 리스트\n",
    "print(tshirts)\n",
    "\n",
    "for color in colors: # color를 반복하는 루프 안에서 sizes를 반복해서 튜플 리스트 생성\n",
    "    for size in sizes:\n",
    "        print((color, size))\n",
    "\n",
    "tshirts = [(color, size) for size in sizes # size 다음에 color를 배치해서 만든 튜플 리스트\n",
    "                         for color in colors]\n",
    "print(tshirts)"
   ]
  },
  {
   "cell_type": "code",
   "execution_count": 6,
   "metadata": {
    "id": "327x4ARkmO4c"
   },
   "outputs": [],
   "source": [
    "# 예제 1-1의 예시\n",
    "import collections\n",
    "\n",
    "Card = collections.namedtuple('Card', ['rank', 'suit'])\n",
    "\n",
    "class FrenchDeck:\n",
    "    ranks = [str(n) for n in range(2, 11)] + list('JQKA')\n",
    "    suits = 'spades diamonds clubs hearts'.split()\n",
    "\n",
    "    def __init__(self):\n",
    "        # 다음 코드를 이용해서 13가지 순위와 4가지 종류로 구성된 52장의 카드 한 벌을 초기화\n",
    "        self._cards = [Card(rank, suit) for suit in self.suits\n",
    "                                       for rank in self.ranks]\n",
    "\n",
    "    def  __len__(self):\n",
    "        return len(self._cards)\n",
    "\n",
    "    def __getitem__(self, position):\n",
    "        return self._cards[position]"
   ]
  },
  {
   "cell_type": "code",
   "execution_count": 7,
   "metadata": {
    "colab": {
     "base_uri": "https://localhost:8080/"
    },
    "id": "zLf1KbN5nq9s",
    "outputId": "5a376c19-d6da-454c-8217-9467e0ca88a0"
   },
   "outputs": [
    {
     "name": "stdout",
     "output_type": "stream",
     "text": [
      "(36, 162, 163, 165, 8364, 164)\n",
      "array('I', [36, 162, 163, 165, 8364, 164])\n"
     ]
    }
   ],
   "source": [
    "# 예제 2-5 제너레이터 표현식에서 튜플과 배열 초기화하기\n",
    "symbols = '$¢£¥€¤'\n",
    "# 제너레이터 표현식이 함수에 보내는 단 하나의 인수라면 괄호 안에 또 괄호를 넣을 필요는 없다\n",
    "print(tuple(ord(symbol) for symbol in symbols)) \n",
    "\n",
    "import array\n",
    "\n",
    "# 배열 생성자는 인수를 두개 받으므로 제너레이터 표현식 앞뒤에 반드시 괄호를 넣어야 한다 (배열 생성자의 첫 번째 인수는 저장할 자료형을 지정한다)\n",
    "print(array.array('I', (ord(symbol) for symbol in symbols)))"
   ]
  },
  {
   "cell_type": "code",
   "execution_count": 8,
   "metadata": {
    "colab": {
     "base_uri": "https://localhost:8080/"
    },
    "id": "O17MTRHNovyD",
    "outputId": "7207696a-cdfe-4cd1-c8a5-c27401b168e6"
   },
   "outputs": [
    {
     "name": "stdout",
     "output_type": "stream",
     "text": [
      "black S\n",
      "black M\n",
      "black L\n",
      "white S\n",
      "white M\n",
      "white L\n"
     ]
    }
   ],
   "source": [
    "# 예제 2-6 제너레이터 표현식에서의 데카르트 곱\n",
    "colors = ['black', 'white']\n",
    "sizes = ['S', 'M', 'L']\n",
    "# 제너레이터 표현식은 한번에 하나의 항목을 생성한다. 리스트는 생성하지 않는다\n",
    "for tshirt in ('%s %s' % (c, s) for c in colors for s in sizes): \n",
    "    print(tshirt)"
   ]
  },
  {
   "cell_type": "markdown",
   "metadata": {
    "id": "jntygRfIqMRf"
   },
   "source": [
    "## 2.3 튜플은 단순한 불변 리스트가 아니다"
   ]
  },
  {
   "cell_type": "markdown",
   "metadata": {
    "id": "NLI6N_XVqQ4n"
   },
   "source": [
    "### 2.3.1 레코드로서의 튜플"
   ]
  },
  {
   "cell_type": "code",
   "execution_count": 9,
   "metadata": {
    "colab": {
     "base_uri": "https://localhost:8080/"
    },
    "id": "ZInDeVHQpZ6C",
    "outputId": "45376a8e-6284-49a8-dc32-0fd82c02a857"
   },
   "outputs": [
    {
     "name": "stdout",
     "output_type": "stream",
     "text": [
      "BRA/CE342567\n",
      "ESP/XDA205856\n",
      "USA/31195855\n",
      "USA\n",
      "BRA\n",
      "ESP\n"
     ]
    }
   ],
   "source": [
    "# 예제 2-7 레코드로 사용된 튜플\n",
    "lax_coordinates = (33.9425, -118.408056) # LA 국제공항의 위도, 경도\n",
    "city, year, pop, chg, area = ('Tokyo', 2003, 32450, 0.66, 8014) # 지명, 년도, 백만 단위 인구수, 인구 변화율, 제곱킬로미터 단위 면적\n",
    "traveler_ids = [('USA', '31195855'), ('BRA', 'CE342567'), # 국가코드, 여권 번호\n",
    "                ('ESP', 'XDA205856')]\n",
    "for passport in sorted(traveler_ids): # 리스트를 반복할 때 passport 변수가 각 튜플에 바인딩 됨\n",
    "    print('%s/%s' % passport)\n",
    "\n",
    "for country, _ in traveler_ids: # 두 번째 항목에는 관심이 없으므로 더미 변수를 나타내는 _를 활용\n",
    "    print(country)"
   ]
  },
  {
   "cell_type": "markdown",
   "metadata": {
    "id": "wpDp2S8gr0cy"
   },
   "source": [
    "### 2.3.2 튜플 언패킹"
   ]
  },
  {
   "cell_type": "code",
   "execution_count": 10,
   "metadata": {
    "colab": {
     "base_uri": "https://localhost:8080/"
    },
    "id": "CeuHDFbjqP7O",
    "outputId": "f166b32f-4682-47a5-b719-83f43e934e42"
   },
   "outputs": [
    {
     "data": {
      "text/plain": [
       "-118.408056"
      ]
     },
     "execution_count": 10,
     "metadata": {},
     "output_type": "execute_result"
    }
   ],
   "source": [
    "lax_coordinates = (33.9425, -118.408056)\n",
    "latitude, longitude = lax_coordinates # 튜플 언패킹\n",
    "latitude\n",
    "longitude"
   ]
  },
  {
   "cell_type": "code",
   "execution_count": 11,
   "metadata": {
    "colab": {
     "base_uri": "https://localhost:8080/"
    },
    "id": "v2fgopJSsfnu",
    "outputId": "d5a9b69a-ea3d-4562-de4c-0b8d32ff6d29"
   },
   "outputs": [
    {
     "name": "stdout",
     "output_type": "stream",
     "text": [
      "a: 2, b: 1\n"
     ]
    }
   ],
   "source": [
    "a = 1\n",
    "b = 2\n",
    "# 튜플 언패킹을 사용하면 임시 변수를 사용하지 않고도 두 변수의 값을 교환할 수 있다\n",
    "a, b = b, a\n",
    "print(f'a: {a}, b: {b}')"
   ]
  },
  {
   "cell_type": "code",
   "execution_count": 12,
   "metadata": {
    "colab": {
     "base_uri": "https://localhost:8080/"
    },
    "id": "lKZiu_0WssBk",
    "outputId": "c0b58ebc-4d4e-4b72-a030-9c2c8956c3c5"
   },
   "outputs": [
    {
     "name": "stdout",
     "output_type": "stream",
     "text": [
      "(2, 4)\n",
      "(2, 4)\n",
      "(2, 4)\n"
     ]
    }
   ],
   "source": [
    "print(divmod(20, 8))\n",
    "\n",
    "t = (20, 8)\n",
    "print(divmod(*t)) # 함수를 호출할 때 인수 앞에 *을 붙혀 튜플을 언패킹할 수 있다\n",
    "\n",
    "quotient, remainder = divmod(*t)\n",
    "print((quotient, remainder))"
   ]
  },
  {
   "cell_type": "code",
   "execution_count": 13,
   "metadata": {
    "colab": {
     "base_uri": "https://localhost:8080/"
    },
    "id": "eXGPxrX0tI40",
    "outputId": "8c872bff-7ead-4aee-8e6c-7896671fad61"
   },
   "outputs": [
    {
     "name": "stdout",
     "output_type": "stream",
     "text": [
      "idrsa.pub\n"
     ]
    }
   ],
   "source": [
    "import os\n",
    "_, filename = os.path.split('/home/luciano/.ssh/idrsa.pub') # _: 플레이스 홀더\n",
    "print(filename)"
   ]
  },
  {
   "cell_type": "code",
   "execution_count": 14,
   "metadata": {
    "colab": {
     "base_uri": "https://localhost:8080/"
    },
    "id": "xxd1Q03etpC8",
    "outputId": "3f9620c9-843a-4b0a-d365-c8ecf1ad653d"
   },
   "outputs": [
    {
     "name": "stdout",
     "output_type": "stream",
     "text": [
      "0 1 [2, 3, 4]\n",
      "0 1 [2]\n",
      "0 1 []\n"
     ]
    }
   ],
   "source": [
    "# 함수 매개변수에 *를 사용해서 초과된 인수를 가져올 수 있다\n",
    "a, b, *rest = range(5)\n",
    "print(a, b, rest)\n",
    "\n",
    "a, b, *rest = range(3)\n",
    "print(a, b, rest)\n",
    "\n",
    "a, b, *rest = range(2)\n",
    "print(a, b, rest)"
   ]
  },
  {
   "cell_type": "code",
   "execution_count": 15,
   "metadata": {
    "colab": {
     "base_uri": "https://localhost:8080/"
    },
    "id": "C5gIskGCt5sE",
    "outputId": "5620c6cf-eaf3-494a-9c01-e7412bae7a1d"
   },
   "outputs": [
    {
     "name": "stdout",
     "output_type": "stream",
     "text": [
      "0 [1, 2] 3 4\n",
      "[0, 1] 2 3 4\n"
     ]
    }
   ],
   "source": [
    "# 병렬 할당의 경우 *는 한 가지의 변수에만 사용이 가능하다\n",
    "a, *body, c, d = range(5)\n",
    "print(a, body, c, d)\n",
    "\n",
    "*head, b, c, d = range(5)\n",
    "print(head, b, c, d)"
   ]
  },
  {
   "cell_type": "markdown",
   "metadata": {
    "id": "8BNSM4veuYey"
   },
   "source": [
    "### 2.3.3 내포된 튜플 언패킹"
   ]
  },
  {
   "cell_type": "code",
   "execution_count": 16,
   "metadata": {
    "colab": {
     "base_uri": "https://localhost:8080/"
    },
    "id": "zK2wnZmKuS0U",
    "outputId": "d9593ac6-d412-41a8-8c4d-6bc3cc48e087"
   },
   "outputs": [
    {
     "name": "stdout",
     "output_type": "stream",
     "text": [
      "                |   lat.    |   long.  \n",
      "Mexico City     |  19.4333  | -99.1333 \n",
      "New York-Newark |  40.8086  | -74.0204 \n",
      "Sao Paulo       | -23.5478  | -46.6358 \n"
     ]
    }
   ],
   "source": [
    "# 예제 2-8 longitude에 접근하기 위해 내포된 튜플 언패킹하기\n",
    "metro_areas = [\n",
    "    ('Tokyo', 'JP', 36.933, (35.689722, 139.691667)), # 마지막 필드는 좌표쌍\n",
    "    ('Delhi NCR', 'IN', 21.935, (28.613889, 77.208889)),\n",
    "    ('Mexico City', 'MX', 20.142, (19.433333, -99.133333)),\n",
    "    ('New York-Newark', 'US', 20.104, (40.808611, -74.020386)),\n",
    "    ('Sao Paulo', 'Br', 19.649, (-23.547778, -46.635833)),\n",
    "]\n",
    "\n",
    "print('{:15} | {:^9} | {:^9}'.format('', 'lat.', 'long.'))\n",
    "fmt = '{:15} | {:^9.4f} | {:^9.4f}'\n",
    "for name, cc, pop, (latitude, longitude) in metro_areas: # 마지막 필드를 튜플에 할당함으로써 좌표를 언패킹한다\n",
    "    if longitude <= 0: # 경도가 음수인 서반구 도시만 출력\n",
    "        print(fmt.format(name, latitude, longitude))"
   ]
  },
  {
   "cell_type": "markdown",
   "metadata": {
    "id": "jh5cn06gwC2c"
   },
   "source": [
    "### 2.3.4 명명된 튜플"
   ]
  },
  {
   "cell_type": "code",
   "execution_count": 17,
   "metadata": {
    "id": "RxBacImhvIsz"
   },
   "outputs": [],
   "source": [
    "# 예제 1-1의 예시\n",
    "import collections\n",
    "\n",
    "# 예제 1-1 에서 Card 클래스를 정의한 방법\n",
    "Card = collections.namedtuple('Card', ['rank', 'suit'])\n",
    "\n",
    "class FrenchDeck:\n",
    "    ranks = [str(n) for n in range(2, 11)] + list('JQKA')\n",
    "    suits = 'spades diamonds clubs hearts'.split()\n",
    "\n",
    "    def __init__(self):\n",
    "        self._cards = [Card(rank, suit) for suit in self.suits\n",
    "                                       for rank in self.ranks]\n",
    "\n",
    "    def  __len__(self):\n",
    "        return len(self._cards)\n",
    "\n",
    "    def __getitem__(self, position):\n",
    "        return self._cards[position]"
   ]
  },
  {
   "cell_type": "code",
   "execution_count": 18,
   "metadata": {
    "colab": {
     "base_uri": "https://localhost:8080/"
    },
    "id": "3AuFsVuHwK17",
    "outputId": "5ca49487-164d-4ed6-9b1a-2a3804f5c820"
   },
   "outputs": [
    {
     "name": "stdout",
     "output_type": "stream",
     "text": [
      "City(name='Tokyo', country='JP', population=36.933, coordicates=(35.689722, 139.691667))\n",
      "36.933\n",
      "JP\n"
     ]
    }
   ],
   "source": [
    "# 예제 2-9 명명된 튜플형을 정의하고 사용하기\n",
    "from collections import namedtuple\n",
    "# 명명된 튜플을 정의하려면 클래스명, 필드명의 리스트(반복형 문자열 or 공백으로 구분된 하나의 문자열) 등 총 두개의 매개변수가 필요하다\n",
    "City = namedtuple('City', 'name country population coordicates')\n",
    "tokyo = City('Tokyo', 'JP', 36.933, (35.689722, 139.691667)) # 데이터는 위치를 맞추고 콤바로 구분해서 생성자에 전달해야 한다\n",
    "print(tokyo)\n",
    "\n",
    "print(tokyo.population) # 필드명을 이용해서 필드에 접근\n",
    "\n",
    "print(tokyo[1]) # 위치를 이용해서 필드에 접근"
   ]
  },
  {
   "cell_type": "code",
   "execution_count": 19,
   "metadata": {
    "colab": {
     "base_uri": "https://localhost:8080/"
    },
    "id": "Z7SMQZYawU7k",
    "outputId": "ea77b119-fd78-43e1-8406-33b8c2a0610a"
   },
   "outputs": [
    {
     "name": "stdout",
     "output_type": "stream",
     "text": [
      "('name', 'country', 'population', 'coordicates')\n",
      "OrderedDict([('name', 'Delhi NCR'), ('country', 'IN'), ('population', 21.935), ('coordicates', LatLong(lat=28.613889, long=77.208889))])\n",
      "name: Delhi NCR\n",
      "country: IN\n",
      "population: 21.935\n",
      "coordicates: LatLong(lat=28.613889, long=77.208889)\n"
     ]
    }
   ],
   "source": [
    "# 예제 2-10 명명된 튜플의 속성과 메서드\n",
    "print(City._fields) # _fields는 클래스의 필드명을 담고 있는 튜플\n",
    "LatLong = namedtuple('LatLong', 'lat long')\n",
    "delhi_data = ('Delhi NCR', 'IN', 21.935, LatLong(28.613889, 77.208889))\n",
    "delhi = City._make(delhi_data) # _make()는 반복형 객체로부터 명명된 튜플을 만든다. City(*delhi_data)를 호출하는 코드와 동일한 역할을 수행\n",
    "print(delhi._asdict()) # _asdict()는 명된 튜플 객체에서 만들어진 collections.OrderedDict 객체를 반환한다\n",
    "for key, value in delhi._asdict().items():\n",
    "    print(key + ':', value)"
   ]
  },
  {
   "cell_type": "markdown",
   "metadata": {
    "id": "og0SW54LZONJ"
   },
   "source": [
    "## 2.4 슬라이싱"
   ]
  },
  {
   "cell_type": "markdown",
   "metadata": {
    "id": "vr6i-0JvZSgI"
   },
   "source": [
    "### 2.4.1 슬라이스와 범위 지정시에 마지막 항목이 포함되지 않는 이유"
   ]
  },
  {
   "cell_type": "code",
   "execution_count": 20,
   "metadata": {
    "colab": {
     "base_uri": "https://localhost:8080/"
    },
    "id": "0cNDQbieZSBK",
    "outputId": "8a0a75ca-286a-46ba-df96-64d05a850b89"
   },
   "outputs": [
    {
     "name": "stdout",
     "output_type": "stream",
     "text": [
      "[10, 20]\n",
      "[30, 40, 50, 60]\n",
      "[10, 20, 30]\n",
      "[40, 50, 60]\n"
     ]
    }
   ],
   "source": [
    "\"\"\"\n",
    "1. range(3), my_list[:3] 처럼 중단점만 이용할 때 길이를 계산하기 쉽다\n",
    "2. 시작점과 중단점을 모두 지정할 때도 길이 계산이 쉽다 (중단점 - 시작점)\n",
    "3. 아래 예제처럼 x인덱를 기준으로 겹침 없이 시퀀스를 분할하기 쉽다\n",
    "\"\"\"\n",
    "l = [10, 20, 30, 40, 50, 60]\n",
    "print(l[:2])\n",
    "print(l[2:])\n",
    "print(l[:3])\n",
    "print(l[3:])"
   ]
  },
  {
   "cell_type": "markdown",
   "metadata": {
    "id": "3vVm_MZxg1UO"
   },
   "source": [
    "### 2.4.2 슬라이스 객체"
   ]
  },
  {
   "cell_type": "code",
   "execution_count": 21,
   "metadata": {
    "colab": {
     "base_uri": "https://localhost:8080/"
    },
    "id": "0QYJRy--amvj",
    "outputId": "6fea014c-0b67-4e7b-8751-210e780b0ff5"
   },
   "outputs": [
    {
     "name": "stdout",
     "output_type": "stream",
     "text": [
      "bye\n",
      "elcycib\n",
      "eccb\n"
     ]
    }
   ],
   "source": [
    "\"\"\"\n",
    "s[a:b:c]는 c 보폭만큼씩 항목을 건너뛰는 것\n",
    "\"\"\"\n",
    "s = 'bicycle'\n",
    "print(s[::3])\n",
    "print(s[::-1])\n",
    "print(s[::-2])"
   ]
  },
  {
   "cell_type": "code",
   "execution_count": 22,
   "metadata": {
    "colab": {
     "base_uri": "https://localhost:8080/"
    },
    "id": "rQ6axU-BhKUT",
    "outputId": "afdc436b-970d-40cf-e0bd-88e8ba7a210e"
   },
   "outputs": [
    {
     "name": "stdout",
     "output_type": "stream",
     "text": [
      "[Card(rank='A', suit='spades'), Card(rank='A', suit='diamonds'), Card(rank='A', suit='clubs'), Card(rank='A', suit='hearts')]\n"
     ]
    }
   ],
   "source": [
    "# 1장에서는 이런식으로 Ace카드만 추려내는데 사용\n",
    "deck = FrenchDeck()\n",
    "print(deck[12::13])"
   ]
  },
  {
   "cell_type": "code",
   "execution_count": 23,
   "metadata": {
    "colab": {
     "base_uri": "https://localhost:8080/"
    },
    "id": "fV4W_Hk6hbjm",
    "outputId": "0af52167-c092-498f-c4df-c9db117b26da"
   },
   "outputs": [
    {
     "name": "stdout",
     "output_type": "stream",
     "text": [
      "    $17.70   Pimoroni PiBrella                 \n",
      "     $4.95   6mm Tactile Switch x20            \n",
      "    $28.00   Panavise Jr. - PV-201             \n",
      "    $24.95   PiTFT Mini Kit 320x240            \n",
      " \n"
     ]
    }
   ],
   "source": [
    "# 예제 2-11 단순 텍스트 파일 청구서의 행 항목들\n",
    "\"\"\"\n",
    "각 슬라이스에 이름을 붙이면 가독성이 좋아진다\n",
    "\"\"\"\n",
    "\n",
    "invoice = \"\"\"\n",
    "0.....6.................................40........52..55........\n",
    "1909  Pimoroni PiBrella                     $17.70   3    $52.50\n",
    "1489  6mm Tactile Switch x20                 $4.95   2     $9.90\n",
    "1510  Panavise Jr. - PV-201                 $28.00   1    $28.00\n",
    "1601  PiTFT Mini Kit 320x240                $24.95   1    $34.95\n",
    "\"\"\"\n",
    "\n",
    "SKU = slice(0, 6)\n",
    "DESCRIPTION = slice(6, 40)\n",
    "UNIT_PRICE = slice(40, 52)\n",
    "ITEM_TOTAL = slice(52, 55)\n",
    "ITEM_TOTAL = slice(55, None)\n",
    "line_items = invoice.split('\\n')[2:]\n",
    "for item in line_items:\n",
    "    print(item[UNIT_PRICE], item[DESCRIPTION])"
   ]
  },
  {
   "cell_type": "markdown",
   "metadata": {
    "id": "y148K_8elvsb"
   },
   "source": [
    "### 2.4.3 다차원 슬라이싱과 생략 기호"
   ]
  },
  {
   "cell_type": "markdown",
   "metadata": {
    "id": "ddb178btpkNK"
   },
   "source": [
    "생략 기호 객체는 f(a, ..., z)처럼 함수의 인수나, a[i:...]처럼 슬라이스의한 부분으로 전달할 수 있다.    \n",
    "numpy에서는 x[i, ...]처럼 사용 (x[i, :, :, :,]와 동일])"
   ]
  },
  {
   "cell_type": "markdown",
   "metadata": {
    "id": "4wN-wVG1qNJm"
   },
   "source": [
    "### 2.4.4 슬라이스에 할당하기"
   ]
  },
  {
   "cell_type": "code",
   "execution_count": 24,
   "metadata": {
    "colab": {
     "base_uri": "https://localhost:8080/"
    },
    "id": "v_ek6ivgkgR6",
    "outputId": "7095a3ea-59c7-4b86-f1c6-faadef299a97"
   },
   "outputs": [
    {
     "name": "stdout",
     "output_type": "stream",
     "text": [
      "[0, 1, 2, 3, 4, 5, 6, 7, 8, 9]\n",
      "[0, 1, 20, 30, 5, 6, 7, 8, 9]\n",
      "[0, 1, 20, 30, 5, 8, 9]\n",
      "[0, 1, 20, 11, 5, 12, 9]\n",
      "[0, 1, 100, 12, 9]\n"
     ]
    }
   ],
   "source": [
    "l = list(range(10))\n",
    "print(l)\n",
    "l[2:5] = [20, 30]\n",
    "print(l)\n",
    "del l[5:7]\n",
    "print(l)\n",
    "l[3::2] = [11, 12]\n",
    "print(l)\n",
    "\n",
    "\"\"\"\n",
    "l[2:5] = 100\n",
    "TypeError: can only assign an iterable\n",
    "\"\"\"\n",
    "\n",
    "l[2:5] = [100]\n",
    "print(l)"
   ]
  },
  {
   "cell_type": "markdown",
   "metadata": {
    "id": "EAK94dOHq_ow"
   },
   "source": [
    "## 2.5 시퀀스에 덧셈과 곱셈 연산자 사용하기\n",
    "\n"
   ]
  },
  {
   "cell_type": "code",
   "execution_count": 25,
   "metadata": {},
   "outputs": [
    {
     "name": "stdout",
     "output_type": "stream",
     "text": [
      "[1, 2, 3, 1, 2, 3, 1, 2, 3, 1, 2, 3, 1, 2, 3]\n",
      "abcdabcdabcdabcdabcd\n"
     ]
    }
   ],
   "source": [
    "l = [1, 2, 3]\n",
    "print(l * 5)\n",
    "\n",
    "print(5 * 'abcd')"
   ]
  },
  {
   "cell_type": "markdown",
   "metadata": {},
   "source": [
    "### 2.5.1 리스트의 리스트 만들기"
   ]
  },
  {
   "cell_type": "code",
   "execution_count": 26,
   "metadata": {},
   "outputs": [
    {
     "name": "stdout",
     "output_type": "stream",
     "text": [
      "[['_', '_', '_'], ['_', '_', '_'], ['_', '_', '_']]\n",
      "[['_', '_', '_'], ['_', '_', 'X'], ['_', '_', '_']]\n"
     ]
    }
   ],
   "source": [
    "# 예제 2-12 길이가 3인 리스트 3개로 표현한 틱택토 보드\n",
    "board = [['_'] * 3 for i in range(3)] # 항목 3개를 가진 리스트 세 개를 담은 리스트 생성\n",
    "print(board)\n",
    "\n",
    "board[1][2] = 'X' # 1열 2행 을 'X'로 변경\n",
    "print(board)"
   ]
  },
  {
   "cell_type": "code",
   "execution_count": 27,
   "metadata": {},
   "outputs": [
    {
     "name": "stdout",
     "output_type": "stream",
     "text": [
      "[['_', '_', '_'], ['_', '_', '_'], ['_', '_', '_']]\n",
      "[['_', '_', 'O'], ['_', '_', 'O'], ['_', '_', 'O']]\n"
     ]
    }
   ],
   "source": [
    "# 예제 2-13 동일한 리스트에 대한 3개의 참조를 가진 리스트는 쓸모없다\n",
    "weird_board = [['_'] * 3] * 3 # 최상위 리스트가 동일한 내부 리스트에 대한 참조 3개를 가짐 문제가 없는 것 처럼 보인다\n",
    "print(weird_board)\n",
    "\n",
    "weird_board[1][2] = 'O' # 1행 2열만 변경했지만 모든 열 2행이 바뀜\n",
    "print(weird_board)"
   ]
  },
  {
   "cell_type": "markdown",
   "metadata": {},
   "source": [
    "예제 2-13에서는 세 리스트 모두 같은 리스트를 참조하기 때문에 한번에 바뀌므로 예제 2-12처럼 지능형 리스트를 사용하는것이 좋다"
   ]
  },
  {
   "cell_type": "code",
   "execution_count": 28,
   "metadata": {},
   "outputs": [
    {
     "name": "stdout",
     "output_type": "stream",
     "text": [
      "[['_', '_', '_'], ['_', '_', '_'], ['_', '_', '_']]\n",
      "[['X', '_', '_'], ['X', '_', '_'], ['X', '_', '_']]\n"
     ]
    }
   ],
   "source": [
    "# 예제 2-13 코드의 작동 방식\n",
    "row = ['_'] * 3\n",
    "board = []\n",
    "for i in range(3):\n",
    "    board.append(row) # 동일한 행이 board 리스트에 세 번 추가된다\n",
    "\n",
    "print(board)\n",
    "board[2][0] = 'X'\n",
    "print(board) # 의도한 바와 다르게 모든 0열이 변경됨"
   ]
  },
  {
   "cell_type": "code",
   "execution_count": 29,
   "metadata": {},
   "outputs": [
    {
     "name": "stdout",
     "output_type": "stream",
     "text": [
      "[['_', '_', '_'], ['_', '_', '_'], ['_', '_', '_']]\n",
      "[['_', '_', '_'], ['_', '_', '_'], ['X', '_', '_']]\n"
     ]
    }
   ],
   "source": [
    "# 예제 2-12 코드의 작동 방식\n",
    "board = []\n",
    "for i in  range(3):\n",
    "    row = ['_'] * 3 # 반복할 때 마다 row 객체를 새로 만들어 추가\n",
    "    board.append(row)\n",
    "\n",
    "print(board)\n",
    "board[2][0] = 'X'\n",
    "print(board)"
   ]
  },
  {
   "cell_type": "markdown",
   "metadata": {},
   "source": [
    "## 2.6 시퀀스의 복합 할당"
   ]
  },
  {
   "cell_type": "markdown",
   "metadata": {},
   "source": [
    "\\>>> a += b   \n",
    "위 예시에서 a에 \\__iadd__() 매서드를 구현하지 않은 경우, a += b를 a = a + b로 계산하여 a + b를 계산한 뒤 객체를 새로 생성한 후 a에 할당한다   \n",
    "(\\__iadd__()에서 i는 in-place를 의미한다)"
   ]
  },
  {
   "cell_type": "code",
   "execution_count": 30,
   "metadata": {},
   "outputs": [
    {
     "name": "stdout",
     "output_type": "stream",
     "text": [
      "초기 리스트의 id : 139751163356488\n",
      "곱셈 연산을 수행한 후 리스트의 id : 139751163356488\n",
      "초기 튜플의 id : 139751163383168\n",
      "연산을 수행한 후 튜플의 id : 139751163501832\n"
     ]
    }
   ],
   "source": [
    "l = [1, 2, 3]\n",
    "print(f'초기 리스트의 id : {id(l)}')\n",
    "\n",
    "l *= 2 # l = [1, 2, 3, 1, 2, 3]\n",
    "print(f'곱셈 연산을 수행한 후 리스트의 id : {id(l)}')\n",
    "\n",
    "t = (1, 2, 3)\n",
    "print(f'초기 튜플의 id : {id(t)}')\n",
    "\n",
    "t *= 2\n",
    "print(f'연산을 수행한 후 튜플의 id : {id(t)}')"
   ]
  },
  {
   "cell_type": "markdown",
   "metadata": {},
   "source": [
    "### 2.6.1 += 복합 할당 퀴즈"
   ]
  },
  {
   "cell_type": "markdown",
   "metadata": {},
   "source": [
    "\\# 예제 2-14 퀴즈    \n",
    "아래의 코드를 실행시켜보지 말고 풀어보자   \n",
    "\n",
    "```\n",
    "\\>>> t = (1, 2, [30, 40])   \n",
    "\\>>> t[2] += [50, 60]   \n",
    "```\n",
    "\n",
    "a. t는 (1, 2 [30, 40, 50, 60]이 된다    \n",
    "b. '튜플 객체는 항목할당을 지원하지 않는다'는 메세지와 함께 TypeError가 발생한다     \n",
    "c. a와 b 둘 다 틀리다    \n",
    "d. a와 b 둘 다 맞다     "
   ]
  },
  {
   "cell_type": "code",
   "execution_count": 31,
   "metadata": {},
   "outputs": [
    {
     "name": "stdout",
     "output_type": "stream",
     "text": [
      "TypeError: 'tuple' object does not support item assignment\n",
      "(1, 2, [30, 40, 50, 60])\n"
     ]
    }
   ],
   "source": [
    "# 예제 2-15 예상치 못한 결과 (에러가)\n",
    "\n",
    "# t = (1, 2, [30, 40])\n",
    "# t[2] += [50, 60]\n",
    "# print(t)\n",
    "\n",
    "# 에러를 없애기 위해 위 코드를 수정하였다.\n",
    "t = (1, 2, [30, 40])\n",
    "try:\n",
    "    t[2] += [50, 60] # TypeError: 'tuple' object does not support item assignment\n",
    "except:\n",
    "    print(\"TypeError: 'tuple' object does not support item assignment\")\n",
    "    \n",
    "print(t)"
   ]
  },
  {
   "cell_type": "markdown",
   "metadata": {},
   "source": [
    "=> 나는 b가 정답일 것 이라고 예상했다. 에러가 날거라고는 예상을 했는데 에러가 나면서 값이 바뀔줄은 몰랐다.   \n",
    "[파이썬 튜터 사이트](http://www.pythontutor.com/)에서 작동 원리를 확인해보자"
   ]
  },
  {
   "cell_type": "code",
   "execution_count": 32,
   "metadata": {},
   "outputs": [
    {
     "name": "stdout",
     "output_type": "stream",
     "text": [
      "(1, 2, [30, 40, 50, 60])\n"
     ]
    }
   ],
   "source": [
    "# extend를 이용하면 에러가 발생하지 않음\n",
    "t = (1, 2, [30, 40])\n",
    "t[2].extend([50, 60])\n",
    "print(t)"
   ]
  },
  {
   "cell_type": "code",
   "execution_count": 33,
   "metadata": {},
   "outputs": [
    {
     "name": "stdout",
     "output_type": "stream",
     "text": [
      "  1           0 LOAD_NAME                0 (s)\n",
      "              2 LOAD_NAME                1 (a)\n",
      "              4 DUP_TOP_TWO\n",
      "              6 BINARY_SUBSCR\n",
      "              8 LOAD_NAME                2 (b)\n",
      "             10 INPLACE_ADD\n",
      "             12 ROT_THREE\n",
      "             14 STORE_SUBSCR\n",
      "             16 LOAD_CONST               0 (None)\n",
      "             18 RETURN_VALUE\n"
     ]
    }
   ],
   "source": [
    "# 예제 2-16 s[a] += b 표현식에 대한 바이트코드\n",
    "import dis\n",
    "dis.dis('s[a] += b')"
   ]
  },
  {
   "cell_type": "markdown",
   "metadata": {},
   "source": [
    "6 BINARY_SUBSCR # s[a]값을 스택의 꼭대기(Top Of Stack : TOS)에 놓는다   \n",
    "10 INPLACE_ADD # TOS += b 연산을 수행한다 TOS가 가변객체이면 이 연산은 성공   \n",
    "14 STORE_SUBSCR # TOS를 s[a]에 할당한다 s가 불변 객체이면 이 연산은 실패한다"
   ]
  },
  {
   "cell_type": "markdown",
   "metadata": {},
   "source": [
    "## 2.7 list.sort()와 sorted() 내장 함수"
   ]
  },
  {
   "cell_type": "code",
   "execution_count": 34,
   "metadata": {},
   "outputs": [
    {
     "name": "stdout",
     "output_type": "stream",
     "text": [
      "['apple', 'banana', 'grape', 'raspberry']\n",
      "['grape', 'raspberry', 'apple', 'banana']\n",
      "['raspberry', 'grape', 'banana', 'apple']\n",
      "['grape', 'apple', 'banana', 'raspberry']\n",
      "['raspberry', 'banana', 'grape', 'apple']\n",
      "['grape', 'raspberry', 'apple', 'banana']\n",
      "['apple', 'banana', 'grape', 'raspberry']\n"
     ]
    }
   ],
   "source": [
    "fruits = ['grape', 'raspberry', 'apple', 'banana']\n",
    "print(sorted(fruits)) # 알파벳순으로 정렬된 문자열들을 담은 새로운 리스트를 생성\n",
    "print(fruits) # 기존의 리스트는 바뀌지 않음\n",
    "print(sorted(fruits, reverse=True)) # 알파벳 역순으로 정렬\n",
    "print(sorted(fruits, key=len)) # 길이 순서로 정렬, 같은 길이인 grape와 apple의 순서는 유지\n",
    "print(sorted(fruits, key=len, reverse=True)) # 길이 역순으로 정렬, grape와 apple의 순서가 유지되었으므로, 위의 list의 역수와 다르다\n",
    "print(fruits) # 기존의 리스트는 바뀌지 않음\n",
    "fruits.sort() # 리스트를 정렬하고 None을 반환\n",
    "print(fruits) # fruits리스트가 정렬됨"
   ]
  },
  {
   "cell_type": "markdown",
   "metadata": {},
   "source": [
    "## 2.8 정렬된 시퀀스를 bisect로 관리하기"
   ]
  },
  {
   "cell_type": "code",
   "execution_count": 35,
   "metadata": {},
   "outputs": [
    {
     "name": "stdout",
     "output_type": "stream",
     "text": [
      "DEMO: bisect\n",
      "haystack ->  1  4  5  6  8 12 15 20 21 23 23 26 29 30\n",
      "31 @ 14      |  |  |  |  |  |  |  |  |  |  |  |  |  |31\n",
      "30 @ 14      |  |  |  |  |  |  |  |  |  |  |  |  |  |30\n",
      "29 @ 13      |  |  |  |  |  |  |  |  |  |  |  |  |29\n",
      "23 @ 11      |  |  |  |  |  |  |  |  |  |  |23\n",
      "22 @  9      |  |  |  |  |  |  |  |  |22\n",
      "10 @  5      |  |  |  |  |10\n",
      " 8 @  5      |  |  |  |  |8 \n",
      " 5 @  3      |  |  |5 \n",
      " 3 @  1      |3 \n",
      " 2 @  1      |2 \n",
      " 1 @  1      |1 \n",
      " 0 @  0    0 \n"
     ]
    }
   ],
   "source": [
    "# 예제 2-17 정렬된 시퀀스에서 항목을 추가할 위치를 찾아내는 bisect\n",
    "import bisect\n",
    "import sys\n",
    "\n",
    "HAYSTACK = [1, 4, 5, 6, 8, 12, 15, 20, 21, 23, 23, 26, 29, 30]\n",
    "NEEDLES = [0, 1, 2, 3, 5, 8, 10, 22, 23, 29, 30, 31]\n",
    "\n",
    "ROW_FMT = '{0:2d} @ {1:2d}    {2}{0:<2d}'\n",
    "\n",
    "def demo(bisect_fn):\n",
    "    for needle in reversed(NEEDLES):\n",
    "        position= bisect_fn(HAYSTACK, needle) # 간격 위치를 찾아내기 위한 bisect 함수를 사용한다\n",
    "        offset = position * '  |' # 간격을 맞춰서 막대 만들기\n",
    "        print(ROW_FMT.format(needle, position, offset)) # 막대와 삽입 위치를 보여주는 행을 출력\n",
    "        \n",
    "if __name__ == '__main__':\n",
    "    if input('left? or right? : ') == 'left': # 마지막 명령행 인수에 따라 사용할 bisect 함수를 선택한다\n",
    "        bisect_fn = bisect.bisect_left\n",
    "    else:\n",
    "        bisect_fn = bisect.bisect\n",
    "    \n",
    "    print('DEMO:', bisect_fn.__name__) # 선택된 함수명을 헤더에 출력\n",
    "    print('haystack ->', ' '.join('%2d' % n for n in HAYSTACK))\n",
    "    demo(bisect_fn)"
   ]
  },
  {
   "cell_type": "code",
   "execution_count": 36,
   "metadata": {},
   "outputs": [
    {
     "data": {
      "text/plain": [
       "['F', 'A', 'C', 'C', 'B', 'A', 'A']"
      ]
     },
     "execution_count": 36,
     "metadata": {},
     "output_type": "execute_result"
    }
   ],
   "source": [
    "# 예제 2-18 시험 점수를 입력받아 등급 문자를 반환하는 grade()함수\n",
    "def grade(score, breakpoints=[60, 70, 80, 90], grades='FDCBA'):\n",
    "    i = bisect.bisect(breakpoints, score)\n",
    "    return grades[i]\n",
    "\n",
    "[grade(score) for score in [33, 99, 77, 70, 89, 90, 100]]"
   ]
  },
  {
   "cell_type": "markdown",
   "metadata": {},
   "source": [
    "### 2.8.2 bisect.insort()로 삽입하기"
   ]
  },
  {
   "cell_type": "code",
   "execution_count": 37,
   "metadata": {},
   "outputs": [
    {
     "name": "stdout",
     "output_type": "stream",
     "text": [
      "10 -> [10]\n",
      " 0 -> [0, 10]\n",
      " 6 -> [0, 6, 10]\n",
      " 8 -> [0, 6, 8, 10]\n",
      " 7 -> [0, 6, 7, 8, 10]\n",
      " 2 -> [0, 2, 6, 7, 8, 10]\n",
      "10 -> [0, 2, 6, 7, 8, 10, 10]\n"
     ]
    }
   ],
   "source": [
    "# 예제 2-19 시퀀스를 항상 정렬된 상태로 유지하는 insort\n",
    "import bisect\n",
    "import random\n",
    "\n",
    "SIZE = 7\n",
    "\n",
    "random.seed(1729)\n",
    "\n",
    "my_list = []\n",
    "for i in range(SIZE):\n",
    "    new_item = random.randrange(SIZE*2)\n",
    "    bisect.insort(my_list, new_item)\n",
    "    print('%2d ->' % new_item, my_list)"
   ]
  },
  {
   "cell_type": "markdown",
   "metadata": {},
   "source": [
    "## 2.9 리스트가 답이 아닐 때"
   ]
  },
  {
   "cell_type": "markdown",
   "metadata": {},
   "source": [
    "### 2.9.1 배열"
   ]
  },
  {
   "cell_type": "code",
   "execution_count": 38,
   "metadata": {},
   "outputs": [
    {
     "name": "stdout",
     "output_type": "stream",
     "text": [
      "0.5963321947530882\n",
      "0.5963321947530882\n",
      "True\n"
     ]
    }
   ],
   "source": [
    "# 예제 2-20 커다란 실수 배열의 생성, 저장, 로딩\n",
    "from array import array # array형을 임포트힌다\n",
    "from random import random\n",
    "floats = array('d', (random() for i in range(10**7))) # 반복 가능한 객체에서 배밀도 실수('d').의 배열을 생성한다\n",
    "print(floats[-1]) # 배열의 마지막 숫자를 조사한다\n",
    "fp = open('floats.bin', 'wb')\n",
    "floats.tofile(fp) # 배열을 이진 파일에 저장한다\n",
    "fp.close()\n",
    "floats2 = array('d') # 비어있는 배밀도 실수 배열을 생성한다\n",
    "fp = open('floats.bin', 'rb')\n",
    "floats2.fromfile(fp, 10**7) # 이진 파일에서 천만 개의 숫자를 읽어온다\n",
    "fp.close()\n",
    "print(floats2[-1]) # 배열의 마지막 숫자를 조사한다\n",
    "print(floats2 == floats) # 배열의 내용이 일치하는지 확인한다"
   ]
  },
  {
   "cell_type": "code",
   "execution_count": 39,
   "metadata": {},
   "outputs": [
    {
     "name": "stdout",
     "output_type": "stream",
     "text": [
      "array('d', [0.7413197791451314, 0.7089270853540668, 0.8652059623922853, 0.6545775128269232, 0.25558368805863596, 0.622443363053152, 0.22861055235612937, 0.37557510466167965, 0.9808377306597083, 0.20540746691872136])\n",
      "array('d', [0.20540746691872136, 0.22861055235612937, 0.25558368805863596, 0.37557510466167965, 0.622443363053152, 0.6545775128269232, 0.7089270853540668, 0.7413197791451314, 0.8652059623922853, 0.9808377306597083])\n"
     ]
    }
   ],
   "source": [
    "# array형에는 list.sort()처럼 배열을 직접 변경하는 매서드가 없어 아래처럼 배열을 다시 만들어야 한다\n",
    "floats = array('d', (random() for i in range(10)))\n",
    "print(floats)\n",
    "floats = array(floats.typecode, sorted(floats))\n",
    "print(floats)"
   ]
  },
  {
   "cell_type": "markdown",
   "metadata": {},
   "source": [
    "### 2.9.2 메모리 뷰"
   ]
  },
  {
   "cell_type": "code",
   "execution_count": 40,
   "metadata": {},
   "outputs": [
    {
     "name": "stdout",
     "output_type": "stream",
     "text": [
      "5\n",
      "-2\n",
      "[254, 255, 255, 255, 0, 0, 1, 0, 2, 0]\n",
      "array('h', [-2, -1, 1024, 1, 2])\n"
     ]
    }
   ],
   "source": [
    "# 예제 2-21 배열 값의 바이트 중 하나를 변경하기\n",
    "import array\n",
    "numbers = array.array('h', [-2, -1, 0, 1, 2])\n",
    "memv = memoryview(numbers) # 짧은 정수('h') 다섯개가 있는 배열에서 memoryview 객체를 만든다\n",
    "print(len(memv))\n",
    "\n",
    "print(memv[0]) # memv도 배열 안에 있는 5개의 항목을 동일하게 본다\n",
    "\n",
    "memv_oct = memv.cast('B') # memv 요소를 unsigned char('B')로 형변환한 memv_oct를 생성\n",
    "print(memv_oct.tolist()) # 값을 조사하기 위해 memv_oct 안의 요소를 리스트로 만든다\n",
    "\n",
    "memv_oct[5] = 4 # 5번 인덱스에 4를 할당한다\n",
    "print(numbers) # unsigned int의 최상위 바이트에서 4는 1024에 해당한다"
   ]
  },
  {
   "cell_type": "code",
   "execution_count": 41,
   "metadata": {},
   "outputs": [
    {
     "name": "stdout",
     "output_type": "stream",
     "text": [
      "[ 0  1  2  3  4  5  6  7  8  9 10 11]\n",
      "<class 'numpy.ndarray'>\n",
      "(12,)\n",
      "[[ 0  1  2  3]\n",
      " [ 4  5  6  7]\n",
      " [ 8  9 10 11]]\n",
      "[ 8  9 10 11]\n",
      "9\n",
      "[1 5 9]\n",
      "[[ 0  4  8]\n",
      " [ 1  5  9]\n",
      " [ 2  6 10]\n",
      " [ 3  7 11]]\n"
     ]
    }
   ],
   "source": [
    "# 예제 2-22 numpy.ndarray에서 행과 열을 이용한 기본 연산\n",
    "import numpy as np # numpy 임포트\n",
    "a = np.arange(12) # 0 ~ 11의 정수를 담은 numpy.ndarray를 생성\n",
    "print(a)\n",
    "print(type(a))\n",
    "print(a.shape) # 배열의 차원을 살펴본다 (12,) : 12개의 요소를 가진 1차원 배열\n",
    "\n",
    "a.shape = 3, 4 # 3행 4열의 배열로 변경\n",
    "print(a)\n",
    "\n",
    "print(a[2]) # 2번 행을 가져온다\n",
    "print(a[2, 1]) # 2행 1열의 요소를 가져온다 (실제 행렬 기반에선 3행 2열)\n",
    "print(a[:, 1]) # 1번 열을 가져온다\n",
    "print(a.transpose()) # 새로운 배열인 전치 행렬을 반환한다"
   ]
  },
  {
   "cell_type": "markdown",
   "metadata": {},
   "source": [
    "### 2.9.4 덱 및 기타 큐\n",
    "dequq는 양쪽 끝에 추가나 제거하는 연산에 최적화되어있다"
   ]
  },
  {
   "cell_type": "code",
   "execution_count": 42,
   "metadata": {},
   "outputs": [
    {
     "name": "stdout",
     "output_type": "stream",
     "text": [
      "deque([0, 1, 2, 3, 4, 5, 6, 7, 8, 9], maxlen=10)\n",
      "deque([7, 8, 9, 0, 1, 2, 3, 4, 5, 6], maxlen=10)\n",
      "deque([1, 2, 3, 4, 5, 6, 7, 8, 9, 0], maxlen=10)\n",
      "deque([-1, 1, 2, 3, 4, 5, 6, 7, 8, 9], maxlen=10)\n",
      "deque([3, 4, 5, 6, 7, 8, 9, 11, 22, 33], maxlen=10)\n",
      "deque([40, 30, 20, 10, 3, 4, 5, 6, 7, 8], maxlen=10)\n"
     ]
    }
   ],
   "source": [
    "# 예제 2-23 덱 이용하기\n",
    "from collections import deque\n",
    "dq = deque(range(10), maxlen=10) # maxlen은 deque 객체가 수용할 수 있는 최대 항목 수\n",
    "print(dq)\n",
    "dq.rotate(3) # rotate() 매서드는 받은 인수만큼 항목을 이동시킨다\n",
    "print(dq)\n",
    "dq.rotate(-4)\n",
    "print(dq)\n",
    "dq.appendleft(-1) # 왼쪽에 항목을 추가한다 가득 찬 경우엔 오른쪽에 있는 항목들이 먼저 밀려남\n",
    "print(dq)\n",
    "dq.extend([11, 22, 33]) # 오른쪽에 항목 추가\n",
    "print(dq)\n",
    "dq.extendleft([10, 20, 30, 40]) # 항목이 역순으로 추가\n",
    "print(dq)"
   ]
  },
  {
   "cell_type": "markdown",
   "metadata": {},
   "source": [
    "뒷 이야기   \n",
    "혼합된 자료형 리스트"
   ]
  },
  {
   "cell_type": "code",
   "execution_count": 43,
   "metadata": {},
   "outputs": [
    {
     "name": "stdout",
     "output_type": "stream",
     "text": [
      "TypeError: '<' not supported between instances of 'str' and 'int'\n"
     ]
    }
   ],
   "source": [
    "# 리스트 안에 여러 자료형이 들어있으므로 정렬이 불가하다\n",
    "l = [28, 14, '28', 5, '9', '1', 0, 6, '23', 19]\n",
    "\n",
    "try:\n",
    "    sorted(l)\n",
    "except TypeError:\n",
    "  print(\"TypeError: '<' not supported between instances of 'str' and 'int'\")"
   ]
  },
  {
   "cell_type": "markdown",
   "metadata": {},
   "source": [
    "key는 훌륭하다"
   ]
  },
  {
   "cell_type": "code",
   "execution_count": 44,
   "metadata": {},
   "outputs": [
    {
     "name": "stdout",
     "output_type": "stream",
     "text": [
      "[0, '1', 5, 6, '9', 14, 19, '23', 28, '28']\n",
      "[0, '1', 14, 19, '23', 28, '28', 5, 6, '9']\n"
     ]
    }
   ],
   "source": [
    "# key를 사용하면 숫자와 숫자 형태의 문자열로 구성된 리스트도 정렬이 가능하다\n",
    "l = [28, 14, '28', 5, '9', '1', 0, 6, '23', 19]\n",
    "print(sorted(l, key=int))\n",
    "print(sorted(l, key=str))"
   ]
  }
 ],
 "metadata": {
  "colab": {
   "collapsed_sections": [],
   "name": "Ch2.ipynb",
   "provenance": []
  },
  "kernelspec": {
   "display_name": "Python 3",
   "language": "python",
   "name": "python3"
  },
  "language_info": {
   "codemirror_mode": {
    "name": "ipython",
    "version": 3
   },
   "file_extension": ".py",
   "mimetype": "text/x-python",
   "name": "python",
   "nbconvert_exporter": "python",
   "pygments_lexer": "ipython3",
   "version": "3.6.10"
  }
 },
 "nbformat": 4,
 "nbformat_minor": 2
}
