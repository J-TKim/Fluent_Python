{
  "nbformat": 4,
  "nbformat_minor": 0,
  "metadata": {
    "colab": {
      "name": "Ch2.ipynb",
      "provenance": [],
      "collapsed_sections": []
    },
    "kernelspec": {
      "name": "python3",
      "display_name": "Python 3"
    }
  },
  "cells": [
    {
      "cell_type": "markdown",
      "metadata": {
        "id": "CIdiJsQVimEH"
      },
      "source": [
        "# 시퀀스"
      ]
    },
    {
      "cell_type": "markdown",
      "metadata": {
        "id": "SzsFQflNigl_"
      },
      "source": [
        "## 2.2 지능형 리스트와 제너레이터 표현식"
      ]
    },
    {
      "cell_type": "markdown",
      "metadata": {
        "id": "trSxnD9gldhn"
      },
      "source": [
        "### 2.2.1 지능형 리스트와 가독성"
      ]
    },
    {
      "cell_type": "code",
      "metadata": {
        "colab": {
          "base_uri": "https://localhost:8080/"
        },
        "id": "80ehdLnRem-J",
        "outputId": "41ea830a-ca7d-4120-c20e-4725899c1940"
      },
      "source": [
        "# 예제 2-1 문자열에서 유니코드 코드포인트 리스트 만들기(버전 1)\r\n",
        "symbols = '$¢£¥€¤'\r\n",
        "codes = []\r\n",
        "for symbol in symbols:\r\n",
        "    codes.append(ord(symbol))\r\n",
        "\r\n",
        "codes"
      ],
      "execution_count": 1,
      "outputs": [
        {
          "output_type": "execute_result",
          "data": {
            "text/plain": [
              "[36, 162, 163, 165, 8364, 164]"
            ]
          },
          "metadata": {
            "tags": []
          },
          "execution_count": 1
        }
      ]
    },
    {
      "cell_type": "code",
      "metadata": {
        "colab": {
          "base_uri": "https://localhost:8080/"
        },
        "id": "NlLTfCVziyEj",
        "outputId": "52a9bcab-88d2-49b5-f993-93417d0feb2c"
      },
      "source": [
        "# 예제 2-2 문자열에서 유니코드 코드포인트 리스트 만들기 (버전 2)\r\n",
        "symbols = '$¢£¥€¤'\r\n",
        "codes = [ord(symbol) for symbol in symbols]\r\n",
        "codes"
      ],
      "execution_count": 2,
      "outputs": [
        {
          "output_type": "execute_result",
          "data": {
            "text/plain": [
              "[36, 162, 163, 165, 8364, 164]"
            ]
          },
          "metadata": {
            "tags": []
          },
          "execution_count": 2
        }
      ]
    },
    {
      "cell_type": "code",
      "metadata": {
        "colab": {
          "base_uri": "https://localhost:8080/"
        },
        "id": "RIpOClnui1Jb",
        "outputId": "ab968f12-5237-440b-df0e-f5d073b192d7"
      },
      "source": [
        "# 파이썬 3 버전에서 for문에서 사용된 변수는 처음 설정되었던 값을 건드리지 않는다\r\n",
        "x = 'ABC'\r\n",
        "dummy = [ord(x) for x in x]\r\n",
        "print(x) # x의 값이 유지된다\r\n",
        "print(dummy) # 지능형 리스트도 제대로 작동한다"
      ],
      "execution_count": 3,
      "outputs": [
        {
          "output_type": "stream",
          "text": [
            "ABC\n",
            "[65, 66, 67]\n"
          ],
          "name": "stdout"
        }
      ]
    },
    {
      "cell_type": "markdown",
      "metadata": {
        "id": "8DJABZLPlf2D"
      },
      "source": [
        "### 2.2.2 지능형 리스트와 map()/filter() 비교"
      ]
    },
    {
      "cell_type": "code",
      "metadata": {
        "colab": {
          "base_uri": "https://localhost:8080/"
        },
        "id": "2WXe7cg1lIuF",
        "outputId": "b93d8805-f4a0-4239-b785-bb1da38ad16a"
      },
      "source": [
        "# 예제 2-3 지능형 리스트와 맵/필터 구성으로 만든 동일 리스트\r\n",
        "symbols = '$¢£¥€¤'\r\n",
        "beyond_ascii = [ord(s) for s in symbols if ord(s) > 127]\r\n",
        "print(beyond_ascii)\r\n",
        "\r\n",
        "beyond_ascii = list(filter(lambda c: c > 127, map(ord, symbols))) # map, filter 조합이 더 빠르지 않다\r\n",
        "print(beyond_ascii)"
      ],
      "execution_count": 4,
      "outputs": [
        {
          "output_type": "stream",
          "text": [
            "[162, 163, 165, 8364, 164]\n",
            "[162, 163, 165, 8364, 164]\n"
          ],
          "name": "stdout"
        }
      ]
    },
    {
      "cell_type": "markdown",
      "metadata": {
        "id": "LUZeHrkymVPn"
      },
      "source": [
        "### 2.2.3 데카르트 곱"
      ]
    },
    {
      "cell_type": "code",
      "metadata": {
        "colab": {
          "base_uri": "https://localhost:8080/"
        },
        "id": "A0mibOn0l_kl",
        "outputId": "c09ed87e-d444-454d-d22c-a4a556fa4f06"
      },
      "source": [
        "# 예제 2-4 지능형 리스트를 이용한 데카르트 곱\r\n",
        "colors = ['black', 'white']\r\n",
        "sizes = ['S', 'M', 'L']\r\n",
        "tshirts = [(color, size) for color in colors for size in sizes] # color 다음에 size를 배치해서 만든 튜플 리스트\r\n",
        "print(tshirts)\r\n",
        "\r\n",
        "for color in colors: # color를 반복하는 루프 안에서 sizes를 반복해서 튜플 리스트 생성\r\n",
        "    for size in sizes:\r\n",
        "        print((color, size))\r\n",
        "\r\n",
        "tshirts = [(color, size) for size in sizes # size 다음에 color를 배치해서 만든 튜플 리스트\r\n",
        "                         for color in colors]\r\n",
        "print(tshirts)"
      ],
      "execution_count": 5,
      "outputs": [
        {
          "output_type": "stream",
          "text": [
            "[('black', 'S'), ('black', 'M'), ('black', 'L'), ('white', 'S'), ('white', 'M'), ('white', 'L')]\n",
            "('black', 'S')\n",
            "('black', 'M')\n",
            "('black', 'L')\n",
            "('white', 'S')\n",
            "('white', 'M')\n",
            "('white', 'L')\n",
            "[('black', 'S'), ('white', 'S'), ('black', 'M'), ('white', 'M'), ('black', 'L'), ('white', 'L')]\n"
          ],
          "name": "stdout"
        }
      ]
    },
    {
      "cell_type": "code",
      "metadata": {
        "id": "327x4ARkmO4c"
      },
      "source": [
        "# 예제 1-1의 예시\r\n",
        "import collections\r\n",
        "\r\n",
        "Card = collections.namedtuple('Card', ['rank', 'suit'])\r\n",
        "\r\n",
        "class FrenchDeck:\r\n",
        "    ranks = [str(n) for n in range(2, 11)] + list('JQKA')\r\n",
        "    suits = 'spades diamonds clubs hearts'.split()\r\n",
        "\r\n",
        "    def __init__(self):\r\n",
        "        # 다음 코드를 이용해서 13가지 순위와 4가지 종류로 구성된 52장의 카드 한 벌을 초기화\r\n",
        "        self._cards = [Card(rank, suit) for suit in self.suits\r\n",
        "                                       for rank in self.ranks]\r\n",
        "\r\n",
        "    def  __len__(self):\r\n",
        "        return len(self._cards)\r\n",
        "\r\n",
        "    def __getitem__(self, position):\r\n",
        "        return self._cards[position]"
      ],
      "execution_count": 6,
      "outputs": []
    },
    {
      "cell_type": "code",
      "metadata": {
        "colab": {
          "base_uri": "https://localhost:8080/"
        },
        "id": "zLf1KbN5nq9s",
        "outputId": "216c95ef-baa6-480d-cbe4-10a92a8d0099"
      },
      "source": [
        "# 예제 2-5 제너레이터 표현식에서 튜플과 배열 초기화하기\r\n",
        "symbols = '$¢£¥€¤'\r\n",
        "# 제너레이터 표현식이 함수에 보내는 단 하나의 인수라면 괄호 안에 또 괄호를 넣을 필요는 없다\r\n",
        "print(tuple(ord(symbol) for symbol in symbols)) \r\n",
        "\r\n",
        "import array\r\n",
        "\r\n",
        "# 배열 생성자는 인수를 두개 받으므로 제너레이터 표현식 앞뒤에 반드시 괄호를 넣어야 한다 (배열 생성자의 첫 번째 인수는 저장할 자료형을 지정한다)\r\n",
        "print(array.array('I', (ord(symbol) for symbol in symbols)))"
      ],
      "execution_count": 7,
      "outputs": [
        {
          "output_type": "stream",
          "text": [
            "(36, 162, 163, 165, 8364, 164)\n",
            "array('I', [36, 162, 163, 165, 8364, 164])\n"
          ],
          "name": "stdout"
        }
      ]
    },
    {
      "cell_type": "code",
      "metadata": {
        "colab": {
          "base_uri": "https://localhost:8080/"
        },
        "id": "O17MTRHNovyD",
        "outputId": "92bc43a3-cbcf-483d-e797-da75feb85874"
      },
      "source": [
        "# 예제 2-6 제너레이터 표현식에서의 데카르트 곱\r\n",
        "colors = ['black', 'white']\r\n",
        "sizes = ['S', 'M', 'L']\r\n",
        "# 제너레이터 표현식은 한번에 하나의 항목을 생성한다. 리스트는 생성하지 않는다\r\n",
        "for tshirt in ('%s %s' % (c, s) for c in colors for s in sizes): \r\n",
        "    print(tshirt)"
      ],
      "execution_count": 8,
      "outputs": [
        {
          "output_type": "stream",
          "text": [
            "black S\n",
            "black M\n",
            "black L\n",
            "white S\n",
            "white M\n",
            "white L\n"
          ],
          "name": "stdout"
        }
      ]
    },
    {
      "cell_type": "markdown",
      "metadata": {
        "id": "jntygRfIqMRf"
      },
      "source": [
        "## 2.3 튜플은 단순한 불변 리스트가 아니다"
      ]
    },
    {
      "cell_type": "markdown",
      "metadata": {
        "id": "NLI6N_XVqQ4n"
      },
      "source": [
        "### 2.3.1 레코드로서의 튜플"
      ]
    },
    {
      "cell_type": "code",
      "metadata": {
        "colab": {
          "base_uri": "https://localhost:8080/"
        },
        "id": "ZInDeVHQpZ6C",
        "outputId": "7c9261ad-55ec-4d18-e1a8-28f5ee324dd3"
      },
      "source": [
        "# 예제 2-7 레코드로 사용된 튜플\r\n",
        "lax_coordinates = (33.9425, -118.408056) # LA 국제공항의 위도, 경도\r\n",
        "city, year, pop, chg, area = ('Tokyo', 2003, 32450, 0.66, 8014) # 지명, 년도, 백만 단위 인구수, 인구 변화율, 제곱킬로미터 단위 면적\r\n",
        "traveler_ids = [('USA', '31195855'), ('BRA', 'CE342567'), # 국가코드, 여권 번호\r\n",
        "                ('ESP', 'XDA205856')]\r\n",
        "for passport in sorted(traveler_ids): # 리스트를 반복할 때 passport 변수가 각 튜플에 바인딩 됨\r\n",
        "    print('%s/%s' % passport)\r\n",
        "\r\n",
        "for country, _ in traveler_ids: # 두 번째 항목에는 관심이 없으므로 더미 변수를 나타내는 _를 활용\r\n",
        "    print(country)"
      ],
      "execution_count": 9,
      "outputs": [
        {
          "output_type": "stream",
          "text": [
            "BRA/CE342567\n",
            "ESP/XDA205856\n",
            "USA/31195855\n",
            "USA\n",
            "BRA\n",
            "ESP\n"
          ],
          "name": "stdout"
        }
      ]
    },
    {
      "cell_type": "markdown",
      "metadata": {
        "id": "wpDp2S8gr0cy"
      },
      "source": [
        "### 2.3.2 튜플 언패킹"
      ]
    },
    {
      "cell_type": "code",
      "metadata": {
        "colab": {
          "base_uri": "https://localhost:8080/"
        },
        "id": "CeuHDFbjqP7O",
        "outputId": "c7854cf4-dddf-4112-abc4-3e68157ff41f"
      },
      "source": [
        "lax_coordinates = (33.9425, -118.408056)\r\n",
        "latitude, longitude = lax_coordinates # 튜플 언패킹\r\n",
        "latitude\r\n",
        "longitude"
      ],
      "execution_count": 10,
      "outputs": [
        {
          "output_type": "execute_result",
          "data": {
            "text/plain": [
              "-118.408056"
            ]
          },
          "metadata": {
            "tags": []
          },
          "execution_count": 10
        }
      ]
    },
    {
      "cell_type": "code",
      "metadata": {
        "colab": {
          "base_uri": "https://localhost:8080/"
        },
        "id": "v2fgopJSsfnu",
        "outputId": "0ae01647-1f98-4480-ded6-5b6c083d5076"
      },
      "source": [
        "a = 1\r\n",
        "b = 2\r\n",
        "# 튜플 언패킹을 사용하면 임시 변수를 사용하지 않고도 두 변수의 값을 교환할 수 있다\r\n",
        "a, b = b, a\r\n",
        "print(f'a: {a}, b: {b}')"
      ],
      "execution_count": 11,
      "outputs": [
        {
          "output_type": "stream",
          "text": [
            "a: 2, b: 1\n"
          ],
          "name": "stdout"
        }
      ]
    },
    {
      "cell_type": "code",
      "metadata": {
        "colab": {
          "base_uri": "https://localhost:8080/"
        },
        "id": "lKZiu_0WssBk",
        "outputId": "4b7ee8d8-8889-42f4-fb80-d6affc7dc64a"
      },
      "source": [
        "print(divmod(20, 8))\r\n",
        "\r\n",
        "t = (20, 8)\r\n",
        "print(divmod(*t)) # 함수를 호출할 때 인수 앞에 *을 붙혀 튜플을 언패킹할 수 있다\r\n",
        "\r\n",
        "quotient, remainder = divmod(*t)\r\n",
        "print((quotient, remainder))"
      ],
      "execution_count": 12,
      "outputs": [
        {
          "output_type": "stream",
          "text": [
            "(2, 4)\n",
            "(2, 4)\n",
            "(2, 4)\n"
          ],
          "name": "stdout"
        }
      ]
    },
    {
      "cell_type": "code",
      "metadata": {
        "colab": {
          "base_uri": "https://localhost:8080/"
        },
        "id": "eXGPxrX0tI40",
        "outputId": "bdef68f2-5502-474d-ce87-62f87d197e2b"
      },
      "source": [
        "import os\r\n",
        "_, filename = os.path.split('/home/luciano/.ssh/idrsa.pub') # _: 플레이스 홀더\r\n",
        "print(filename)"
      ],
      "execution_count": 13,
      "outputs": [
        {
          "output_type": "stream",
          "text": [
            "idrsa.pub\n"
          ],
          "name": "stdout"
        }
      ]
    },
    {
      "cell_type": "code",
      "metadata": {
        "colab": {
          "base_uri": "https://localhost:8080/"
        },
        "id": "xxd1Q03etpC8",
        "outputId": "54b4b706-3509-447b-c8ca-dda126bf8c99"
      },
      "source": [
        "# 함수 매개변수에 *를 사용해서 초과된 인수를 가져올 수 있다\r\n",
        "a, b, *rest = range(5)\r\n",
        "print(a, b, rest)\r\n",
        "\r\n",
        "a, b, *rest = range(3)\r\n",
        "print(a, b, rest)\r\n",
        "\r\n",
        "a, b, *rest = range(2)\r\n",
        "print(a, b, rest)"
      ],
      "execution_count": 14,
      "outputs": [
        {
          "output_type": "stream",
          "text": [
            "0 1 [2, 3, 4]\n",
            "0 1 [2]\n",
            "0 1 []\n"
          ],
          "name": "stdout"
        }
      ]
    },
    {
      "cell_type": "code",
      "metadata": {
        "colab": {
          "base_uri": "https://localhost:8080/"
        },
        "id": "C5gIskGCt5sE",
        "outputId": "5308835c-4b09-43fe-8de3-f7bfa628e35c"
      },
      "source": [
        "# 병렬 할당의 경우 *는 한 가지의 변수에만 사용이 가능하다\r\n",
        "a, *body, c, d = range(5)\r\n",
        "print(a, body, c, d)\r\n",
        "\r\n",
        "*head, b, c, d = range(5)\r\n",
        "print(head, b, c, d)"
      ],
      "execution_count": 15,
      "outputs": [
        {
          "output_type": "stream",
          "text": [
            "0 [1, 2] 3 4\n",
            "[0, 1] 2 3 4\n"
          ],
          "name": "stdout"
        }
      ]
    },
    {
      "cell_type": "markdown",
      "metadata": {
        "id": "8BNSM4veuYey"
      },
      "source": [
        "### 2.3.3 내포된 튜플 언패킹"
      ]
    },
    {
      "cell_type": "code",
      "metadata": {
        "colab": {
          "base_uri": "https://localhost:8080/"
        },
        "id": "zK2wnZmKuS0U",
        "outputId": "78eae77c-806f-4794-ee52-3dd13f20603e"
      },
      "source": [
        "# 예제 2-8 longitude에 접근하기 위해 내포된 튜플 언패킹하기\r\n",
        "metro_areas = [\r\n",
        "    ('Tokyo', 'JP', 36.933, (35.689722, 139.691667)), # 마지막 필드는 좌표쌍\r\n",
        "    ('Delhi NCR', 'IN', 21.935, (28.613889, 77.208889)),\r\n",
        "    ('Mexico City', 'MX', 20.142, (19.433333, -99.133333)),\r\n",
        "    ('New York-Newark', 'US', 20.104, (40.808611, -74.020386)),\r\n",
        "    ('Sao Paulo', 'Br', 19.649, (-23.547778, -46.635833)),\r\n",
        "]\r\n",
        "\r\n",
        "print('{:15} | {:^9} | {:^9}'.format('', 'lat.', 'long.'))\r\n",
        "fmt = '{:15} | {:^9.4f} | {:^9.4f}'\r\n",
        "for name, cc, pop, (latitude, longitude) in metro_areas: # 마지막 필드를 튜플에 할당함으로써 좌표를 언패킹한다\r\n",
        "    if longitude <= 0: # 경도가 음수인 서반구 도시만 출력\r\n",
        "        print(fmt.format(name, latitude, longitude))"
      ],
      "execution_count": 16,
      "outputs": [
        {
          "output_type": "stream",
          "text": [
            "                |   lat.    |   long.  \n",
            "Mexico City     |  19.4333  | -99.1333 \n",
            "New York-Newark |  40.8086  | -74.0204 \n",
            "Sao Paulo       | -23.5478  | -46.6358 \n"
          ],
          "name": "stdout"
        }
      ]
    },
    {
      "cell_type": "markdown",
      "metadata": {
        "id": "jh5cn06gwC2c"
      },
      "source": [
        "### 2.3.4 명명된 튜플"
      ]
    },
    {
      "cell_type": "code",
      "metadata": {
        "id": "RxBacImhvIsz"
      },
      "source": [
        "# 예제 1-1의 예시\r\n",
        "import collections\r\n",
        "\r\n",
        "# 예제 1-1 에서 Card 클래스를 정의한 방법\r\n",
        "Card = collections.namedtuple('Card', ['rank', 'suit'])\r\n",
        "\r\n",
        "class FrenchDeck:\r\n",
        "    ranks = [str(n) for n in range(2, 11)] + list('JQKA')\r\n",
        "    suits = 'spades diamonds clubs hearts'.split()\r\n",
        "\r\n",
        "    def __init__(self):\r\n",
        "        self._cards = [Card(rank, suit) for suit in self.suits\r\n",
        "                                       for rank in self.ranks]\r\n",
        "\r\n",
        "    def  __len__(self):\r\n",
        "        return len(self._cards)\r\n",
        "\r\n",
        "    def __getitem__(self, position):\r\n",
        "        return self._cards[position]"
      ],
      "execution_count": 17,
      "outputs": []
    },
    {
      "cell_type": "code",
      "metadata": {
        "colab": {
          "base_uri": "https://localhost:8080/"
        },
        "id": "3AuFsVuHwK17",
        "outputId": "8a4f3a67-e94f-4d20-afc1-6ac87216caad"
      },
      "source": [
        "# 예제 2-9 명명된 튜플형을 정의하고 사용하기\r\n",
        "from collections import namedtuple\r\n",
        "# 명명된 튜플을 정의하려면 클래스명, 필드명의 리스트(반복형 문자열 or 공백으로 구분된 하나의 문자열) 등 총 두개의 매개변수가 필요하다\r\n",
        "City = namedtuple('City', 'name country population coordicates')\r\n",
        "tokyo = City('Tokyo', 'JP', 36.933, (35.689722, 139.691667)) # 데이터는 위치를 맞추고 콤바로 구분해서 생성자에 전달해야 한다\r\n",
        "print(tokyo)\r\n",
        "\r\n",
        "print(tokyo.population) # 필드명을 이용해서 필드에 접근\r\n",
        "\r\n",
        "print(tokyo[1]) # 위치를 이용해서 필드에 접근"
      ],
      "execution_count": 18,
      "outputs": [
        {
          "output_type": "stream",
          "text": [
            "City(name='Tokyo', country='JP', population=36.933, coordicates=(35.689722, 139.691667))\n",
            "36.933\n",
            "JP\n"
          ],
          "name": "stdout"
        }
      ]
    },
    {
      "cell_type": "code",
      "metadata": {
        "colab": {
          "base_uri": "https://localhost:8080/"
        },
        "id": "Z7SMQZYawU7k",
        "outputId": "aedc0239-9fbf-413b-efba-a0d1273007e4"
      },
      "source": [
        "# 예제 2-10 명명된 튜플의 속성과 메서드\r\n",
        "print(City._fields) # _fields는 클래스의 필드명을 담고 있는 튜플\r\n",
        "LatLong = namedtuple('LatLong', 'lat long')\r\n",
        "delhi_data = ('Delhi NCR', 'IN', 21.935, LatLong(28.613889, 77.208889))\r\n",
        "delhi = City._make(delhi_data) # _make()는 반복형 객체로부터 명명된 튜플을 만든다. City(*delhi_data)를 호출하는 코드와 동일한 역할을 수행\r\n",
        "print(delhi._asdict()) # _asdict()는 명된 튜플 객체에서 만들어진 collections.OrderedDict 객체를 반환한다\r\n",
        "for key, value in delhi._asdict().items():\r\n",
        "    print(key + ':', value)"
      ],
      "execution_count": 19,
      "outputs": [
        {
          "output_type": "stream",
          "text": [
            "('name', 'country', 'population', 'coordicates')\n",
            "OrderedDict([('name', 'Delhi NCR'), ('country', 'IN'), ('population', 21.935), ('coordicates', LatLong(lat=28.613889, long=77.208889))])\n",
            "name: Delhi NCR\n",
            "country: IN\n",
            "population: 21.935\n",
            "coordicates: LatLong(lat=28.613889, long=77.208889)\n"
          ],
          "name": "stdout"
        }
      ]
    }
  ]
}